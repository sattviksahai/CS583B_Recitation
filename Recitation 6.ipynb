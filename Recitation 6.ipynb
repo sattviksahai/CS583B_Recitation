{
 "cells": [
  {
   "cell_type": "code",
   "execution_count": 1,
   "metadata": {},
   "outputs": [],
   "source": [
    "import numpy as np\n",
    "np.random.seed(0)"
   ]
  },
  {
   "cell_type": "markdown",
   "metadata": {},
   "source": [
    "### Question 1 ###"
   ]
  },
  {
   "cell_type": "code",
   "execution_count": 2,
   "metadata": {},
   "outputs": [],
   "source": [
    "vec = np.array([2,5,-10,-7,-7])\n",
    "\n",
    "mat = np.array([[-3, -1, 9],\n",
    "                [8, -6, -4],\n",
    "                [2, -9, -4]])"
   ]
  },
  {
   "cell_type": "code",
   "execution_count": 17,
   "metadata": {},
   "outputs": [
    {
     "name": "stdout",
     "output_type": "stream",
     "text": [
      "x =  [  2   5 -10  -7  -7]\n",
      "X =  [[ 1 -1  3 21]\n",
      " [ 3 -6  9 -9]\n",
      " [ 2 -1  6 10]\n",
      " [ 4  0 12  4]]\n"
     ]
    }
   ],
   "source": [
    "print(\"x = \", vec)\n",
    "print(\"X = \", mat)"
   ]
  },
  {
   "cell_type": "code",
   "execution_count": 4,
   "metadata": {},
   "outputs": [
    {
     "data": {
      "text/plain": [
       "10.0"
      ]
     },
     "execution_count": 4,
     "metadata": {},
     "output_type": "execute_result"
    }
   ],
   "source": [
    "np.linalg.norm(vec, ord=np.inf)"
   ]
  },
  {
   "cell_type": "code",
   "execution_count": 5,
   "metadata": {},
   "outputs": [
    {
     "data": {
      "text/plain": [
       "17.549928774784245"
      ]
     },
     "execution_count": 5,
     "metadata": {},
     "output_type": "execute_result"
    }
   ],
   "source": [
    "np.linalg.norm(mat, ord='fro')"
   ]
  },
  {
   "cell_type": "markdown",
   "metadata": {},
   "source": [
    "### Question 2 ###"
   ]
  },
  {
   "cell_type": "code",
   "execution_count": 6,
   "metadata": {},
   "outputs": [],
   "source": [
    "mat = np.array([[1, -1, 3, 21],\n",
    "                [3, -6, 9, -9],\n",
    "                [2, -1, 6, 10],\n",
    "                [4, 0, 12, 4]])"
   ]
  },
  {
   "cell_type": "code",
   "execution_count": 18,
   "metadata": {},
   "outputs": [
    {
     "name": "stdout",
     "output_type": "stream",
     "text": [
      "X =  [[ 1 -1  3 21]\n",
      " [ 3 -6  9 -9]\n",
      " [ 2 -1  6 10]\n",
      " [ 4  0 12  4]]\n"
     ]
    }
   ],
   "source": [
    "print(\"X = \", mat)"
   ]
  },
  {
   "cell_type": "code",
   "execution_count": 8,
   "metadata": {},
   "outputs": [
    {
     "name": "stdout",
     "output_type": "stream",
     "text": [
      "3\n"
     ]
    }
   ],
   "source": [
    "print(np.linalg.matrix_rank(mat))"
   ]
  },
  {
   "cell_type": "markdown",
   "metadata": {},
   "source": [
    "### Question 3 ###"
   ]
  },
  {
   "cell_type": "code",
   "execution_count": 12,
   "metadata": {},
   "outputs": [],
   "source": [
    "A = np.array([[1, -1, 3, 21],\n",
    "            [3, -6, 9, -9],\n",
    "            [2, -1, 6, 10]])\n",
    "\n",
    "B = np.array([[2, 5, -10],\n",
    "            [-7, -7, -3],\n",
    "            [-1, 9, 8],\n",
    "            [-6, -4, 2]])"
   ]
  },
  {
   "cell_type": "code",
   "execution_count": 19,
   "metadata": {},
   "outputs": [
    {
     "name": "stdout",
     "output_type": "stream",
     "text": [
      "A =  [[ 1 -1  3 21]\n",
      " [ 3 -6  9 -9]\n",
      " [ 2 -1  6 10]]\n",
      "B =  [[  2   5 -10]\n",
      " [ -7  -7  -3]\n",
      " [ -1   9   8]\n",
      " [ -6  -4   2]]\n"
     ]
    }
   ],
   "source": [
    "print(\"A = \", A)\n",
    "print(\"B = \", B)"
   ]
  },
  {
   "cell_type": "code",
   "execution_count": 20,
   "metadata": {},
   "outputs": [
    {
     "name": "stdout",
     "output_type": "stream",
     "text": [
      "[[-120  -45   59]\n",
      " [  93  174   42]\n",
      " [ -55   31   51]]\n"
     ]
    }
   ],
   "source": [
    "print(np.matmul(A,B))"
   ]
  },
  {
   "cell_type": "code",
   "execution_count": null,
   "metadata": {},
   "outputs": [],
   "source": []
  }
 ],
 "metadata": {
  "kernelspec": {
   "display_name": "Python (keras_env)",
   "language": "python",
   "name": "keras_env"
  },
  "language_info": {
   "codemirror_mode": {
    "name": "ipython",
    "version": 3
   },
   "file_extension": ".py",
   "mimetype": "text/x-python",
   "name": "python",
   "nbconvert_exporter": "python",
   "pygments_lexer": "ipython3",
   "version": "3.6.9"
  }
 },
 "nbformat": 4,
 "nbformat_minor": 2
}
