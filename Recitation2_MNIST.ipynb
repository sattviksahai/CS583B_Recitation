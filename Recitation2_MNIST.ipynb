{
  "nbformat": 4,
  "nbformat_minor": 0,
  "metadata": {
    "colab": {
      "name": "Recitation2_MNIST.ipynb",
      "provenance": [],
      "collapsed_sections": [],
      "authorship_tag": "ABX9TyNhEDBTy2RAXFYH/Le1/yS3",
      "include_colab_link": true
    },
    "kernelspec": {
      "name": "python3",
      "display_name": "Python 3"
    },
    "accelerator": "GPU"
  },
  "cells": [
    {
      "cell_type": "markdown",
      "metadata": {
        "id": "view-in-github",
        "colab_type": "text"
      },
      "source": [
        "<a href=\"https://colab.research.google.com/github/sattviksahai/CS583B_Recitation/blob/master/Recitation2_MNIST.ipynb\" target=\"_parent\"><img src=\"https://colab.research.google.com/assets/colab-badge.svg\" alt=\"Open In Colab\"/></a>"
      ]
    },
    {
      "cell_type": "markdown",
      "metadata": {
        "id": "xNTVnt8DCcSE",
        "colab_type": "text"
      },
      "source": [
        "# Load MNIST dataset from Keras #"
      ]
    },
    {
      "cell_type": "code",
      "metadata": {
        "id": "B_EhB0SdBWy9",
        "colab_type": "code",
        "colab": {
          "base_uri": "https://localhost:8080/",
          "height": 119
        },
        "outputId": "fceeafd2-1d54-4ce8-ec1b-d1b1debda21a"
      },
      "source": [
        "from keras.datasets import mnist\n",
        "\n",
        "(x_train, y_train), (x_test, y_test) = mnist.load_data()\n",
        "\n",
        "print('Shape of x_train: {}'.format(x_train.shape))\n",
        "print('Shape of y_train: {}'.format(y_train.shape))\n",
        "print('Shape of x_test: {}'.format(x_test.shape))\n",
        "print('Shape of x_test: {}'.format(y_test.shape))"
      ],
      "execution_count": 1,
      "outputs": [
        {
          "output_type": "stream",
          "text": [
            "Downloading data from https://storage.googleapis.com/tensorflow/tf-keras-datasets/mnist.npz\n",
            "11493376/11490434 [==============================] - 0s 0us/step\n",
            "Shape of x_train: (60000, 28, 28)\n",
            "Shape of y_train: (60000,)\n",
            "Shape of x_test: (10000, 28, 28)\n",
            "Shape of x_test: (10000,)\n"
          ],
          "name": "stdout"
        }
      ]
    },
    {
      "cell_type": "markdown",
      "metadata": {
        "id": "mLiTBrgpCVCL",
        "colab_type": "text"
      },
      "source": [
        "# Display a few example images from the MNIST dataset #"
      ]
    },
    {
      "cell_type": "code",
      "metadata": {
        "id": "TAQSEoB1Bjtu",
        "colab_type": "code",
        "colab": {
          "base_uri": "https://localhost:8080/",
          "height": 304
        },
        "outputId": "47fa6f0e-40a2-4c19-8ec7-ff07e37b8cca"
      },
      "source": [
        "import matplotlib.pyplot as plt\n",
        "import random\n",
        "\n",
        "fig, axs = plt.subplots(1,5,figsize=(25,25))\n",
        "\n",
        "for i in range(5):\n",
        "  ind = random.randint(0,x_train.shape[0])\n",
        "  axs[i].imshow(x_train[ind,:,:], cmap='gray')\n",
        "  axs[i].set_title(y_train[ind])\n",
        "plt.show()"
      ],
      "execution_count": 2,
      "outputs": [
        {
          "output_type": "display_data",
          "data": {
            "image/png": "[encoded data removed]",
            "text/plain": [
              "<Figure size 1800x1800 with 5 Axes>"
            ]
          },
          "metadata": {
            "tags": [],
            "needs_background": "light"
          }
        }
      ]
    },
    {
      "cell_type": "markdown",
      "metadata": {
        "id": "sRtt4CxaE5iJ",
        "colab_type": "text"
      },
      "source": [
        "# Convert to Vector #"
      ]
    },
    {
      "cell_type": "code",
      "metadata": {
        "id": "EmtNI01IDDrp",
        "colab_type": "code",
        "colab": {
          "base_uri": "https://localhost:8080/",
          "height": 51
        },
        "outputId": "46ff0d45-75e4-4397-8ba1-bb48b449ab31"
      },
      "source": [
        "x_train_vec = x_train.reshape(x_train.shape[0],-1)\n",
        "x_test_vec = x_test.reshape(x_test.shape[0],-1)\n",
        "\n",
        "print('Shape of x_train_vec: {}'.format(x_train_vec.shape))\n",
        "print('Shape of x_test_vec: {}'.format(x_test_vec.shape))"
      ],
      "execution_count": 3,
      "outputs": [
        {
          "output_type": "stream",
          "text": [
            "Shape of x_train_vec: (60000, 784)\n",
            "Shape of x_test_vec: (10000, 784)\n"
          ],
          "name": "stdout"
        }
      ]
    },
    {
      "cell_type": "code",
      "metadata": {
        "id": "Hogi24mUFMaP",
        "colab_type": "code",
        "colab": {
          "base_uri": "https://localhost:8080/",
          "height": 51
        },
        "outputId": "915e1c54-c425-4506-a91e-79393f7a0330"
      },
      "source": [
        "import numpy as np\n",
        "\n",
        "def to_one_hot(labels, dimension=10):\n",
        "  result = np.zeros((len(labels), dimension))\n",
        "  for i, lab in enumerate(labels):\n",
        "    result[i, lab] = 1\n",
        "  return result\n",
        "\n",
        "y_train_vec = to_one_hot(y_train)\n",
        "y_test_vec = to_one_hot(y_test)\n",
        "\n",
        "print('Shape of one hot encoded y_train_vec: {}'.format(y_train_vec.shape))\n",
        "print('Shape of one hot encoded y_test_vec: {}'.format(y_test_vec.shape))"
      ],
      "execution_count": 4,
      "outputs": [
        {
          "output_type": "stream",
          "text": [
            "Shape of one hot encoded y_train_vec: (60000, 10)\n",
            "Shape of one hot encoded y_test_vec: (10000, 10)\n"
          ],
          "name": "stdout"
        }
      ]
    },
    {
      "cell_type": "markdown",
      "metadata": {
        "id": "g04BDpokMi73",
        "colab_type": "text"
      },
      "source": [
        "# Create validation set #"
      ]
    },
    {
      "cell_type": "code",
      "metadata": {
        "id": "HtpjhOA-ICdt",
        "colab_type": "code",
        "colab": {
          "base_uri": "https://localhost:8080/",
          "height": 85
        },
        "outputId": "420c1ba9-73a3-4893-d02b-e1a04ac6eba0"
      },
      "source": [
        "rand_indices = np.random.permutation(x_train_vec.shape[0])\n",
        "train_indices = rand_indices[:50000]\n",
        "valid_indies = rand_indices[50000:]\n",
        "\n",
        "x_valid_vec = x_train_vec[valid_indies, :]\n",
        "y_valid_vec = y_train_vec[valid_indies, :]\n",
        "\n",
        "x_train_vec = x_train_vec[train_indices,:]\n",
        "y_train_vec = y_train_vec[train_indices,:]\n",
        "\n",
        "print('Shape of x_valid_vec: {}'.format(x_valid_vec.shape))\n",
        "print('Shape of y_valid_vec: {}'.format(y_valid_vec.shape))\n",
        "print('Shape of x_train_vec: {}'.format(x_train_vec.shape))\n",
        "print('Shape of y_train_vec: {}'.format(y_train_vec.shape))"
      ],
      "execution_count": 5,
      "outputs": [
        {
          "output_type": "stream",
          "text": [
            "Shape of x_valid_vec: (10000, 784)\n",
            "Shape of y_valid_vec: (10000, 10)\n",
            "Shape of x_train_vec: (50000, 784)\n",
            "Shape of y_train_vec: (50000, 10)\n"
          ],
          "name": "stdout"
        }
      ]
    },
    {
      "cell_type": "markdown",
      "metadata": {
        "id": "3V4mGm_JNoI7",
        "colab_type": "text"
      },
      "source": [
        "# Define Softmax Model #"
      ]
    },
    {
      "cell_type": "code",
      "metadata": {
        "id": "vc44M1upMSvm",
        "colab_type": "code",
        "colab": {
          "base_uri": "https://localhost:8080/",
          "height": 187
        },
        "outputId": "2bfa656b-6ab1-4cd1-e8dc-627f12c513ba"
      },
      "source": [
        "from keras import models\n",
        "from keras import layers\n",
        "\n",
        "model = models.Sequential()\n",
        "model.add(layers.Dense(10, activation='softmax', input_shape=(x_train_vec.shape[1],)))\n",
        "\n",
        "# print model summary\n",
        "model.summary()"
      ],
      "execution_count": 6,
      "outputs": [
        {
          "output_type": "stream",
          "text": [
            "Model: \"sequential\"\n",
            "_________________________________________________________________\n",
            "Layer (type)                 Output Shape              Param #   \n",
            "=================================================================\n",
            "dense (Dense)                (None, 10)                7850      \n",
            "=================================================================\n",
            "Total params: 7,850\n",
            "Trainable params: 7,850\n",
            "Non-trainable params: 0\n",
            "_________________________________________________________________\n"
          ],
          "name": "stdout"
        }
      ]
    },
    {
      "cell_type": "markdown",
      "metadata": {
        "id": "t4x1eJOSPo5d",
        "colab_type": "text"
      },
      "source": [
        "# Compile Model #"
      ]
    },
    {
      "cell_type": "code",
      "metadata": {
        "id": "CffZi6BGOUkO",
        "colab_type": "code",
        "colab": {}
      },
      "source": [
        "from keras import optimizers\n",
        "\n",
        "model.compile(optimizers.RMSprop(lr=0.0001),\n",
        "              loss='categorical_crossentropy',\n",
        "              metrics=['accuracy'])"
      ],
      "execution_count": 7,
      "outputs": []
    },
    {
      "cell_type": "markdown",
      "metadata": {
        "id": "M3qIx4XlQOHI",
        "colab_type": "text"
      },
      "source": [
        "# Train Model #"
      ]
    },
    {
      "cell_type": "code",
      "metadata": {
        "id": "054e4sThQFh2",
        "colab_type": "code",
        "colab": {
          "base_uri": "https://localhost:8080/",
          "height": 1000
        },
        "outputId": "2cf99a96-9155-42e1-e02f-65234361460a"
      },
      "source": [
        "history = model.fit(x_train_vec, y_train_vec, batch_size=128, epochs=50, validation_data=(x_valid_vec, y_valid_vec))"
      ],
      "execution_count": 8,
      "outputs": [
        {
          "output_type": "stream",
          "text": [
            "Epoch 1/50\n",
            "391/391 [==============================] - 1s 3ms/step - loss: 50.5197 - accuracy: 0.4665 - val_loss: 16.3129 - val_accuracy: 0.7254\n",
            "Epoch 2/50\n",
            "391/391 [==============================] - 1s 3ms/step - loss: 12.5731 - accuracy: 0.7763 - val_loss: 9.8608 - val_accuracy: 0.8190\n",
            "Epoch 3/50\n",
            "391/391 [==============================] - 1s 3ms/step - loss: 8.8550 - accuracy: 0.8288 - val_loss: 7.8907 - val_accuracy: 0.8475\n",
            "Epoch 4/50\n",
            "391/391 [==============================] - 1s 3ms/step - loss: 7.2730 - accuracy: 0.8473 - val_loss: 6.8884 - val_accuracy: 0.8597\n",
            "Epoch 5/50\n",
            "391/391 [==============================] - 1s 3ms/step - loss: 6.3234 - accuracy: 0.8593 - val_loss: 6.2829 - val_accuracy: 0.8638\n",
            "Epoch 6/50\n",
            "391/391 [==============================] - 1s 3ms/step - loss: 5.6463 - accuracy: 0.8671 - val_loss: 5.7833 - val_accuracy: 0.8690\n",
            "Epoch 7/50\n",
            "391/391 [==============================] - 1s 3ms/step - loss: 5.1580 - accuracy: 0.8709 - val_loss: 5.4179 - val_accuracy: 0.8740\n",
            "Epoch 8/50\n",
            "391/391 [==============================] - 1s 3ms/step - loss: 4.7755 - accuracy: 0.8746 - val_loss: 5.1306 - val_accuracy: 0.8732\n",
            "Epoch 9/50\n",
            "391/391 [==============================] - 1s 3ms/step - loss: 4.4493 - accuracy: 0.8767 - val_loss: 4.8852 - val_accuracy: 0.8803\n",
            "Epoch 10/50\n",
            "391/391 [==============================] - 1s 3ms/step - loss: 4.1870 - accuracy: 0.8811 - val_loss: 4.7442 - val_accuracy: 0.8761\n",
            "Epoch 11/50\n",
            "391/391 [==============================] - 1s 3ms/step - loss: 3.9551 - accuracy: 0.8812 - val_loss: 4.5231 - val_accuracy: 0.8797\n",
            "Epoch 12/50\n",
            "391/391 [==============================] - 1s 3ms/step - loss: 3.7593 - accuracy: 0.8834 - val_loss: 4.3719 - val_accuracy: 0.8801\n",
            "Epoch 13/50\n",
            "391/391 [==============================] - 1s 3ms/step - loss: 3.5829 - accuracy: 0.8841 - val_loss: 4.2065 - val_accuracy: 0.8809\n",
            "Epoch 14/50\n",
            "391/391 [==============================] - 1s 3ms/step - loss: 3.4113 - accuracy: 0.8864 - val_loss: 4.0590 - val_accuracy: 0.8826\n",
            "Epoch 15/50\n",
            "391/391 [==============================] - 1s 3ms/step - loss: 3.2728 - accuracy: 0.8874 - val_loss: 3.9307 - val_accuracy: 0.8828\n",
            "Epoch 16/50\n",
            "391/391 [==============================] - 1s 3ms/step - loss: 3.1437 - accuracy: 0.8874 - val_loss: 3.8336 - val_accuracy: 0.8829\n",
            "Epoch 17/50\n",
            "391/391 [==============================] - 1s 3ms/step - loss: 3.0288 - accuracy: 0.8895 - val_loss: 3.7365 - val_accuracy: 0.8838\n",
            "Epoch 18/50\n",
            "391/391 [==============================] - 1s 3ms/step - loss: 2.9239 - accuracy: 0.8896 - val_loss: 3.6080 - val_accuracy: 0.8841\n",
            "Epoch 19/50\n",
            "391/391 [==============================] - 1s 3ms/step - loss: 2.8168 - accuracy: 0.8907 - val_loss: 3.5457 - val_accuracy: 0.8834\n",
            "Epoch 20/50\n",
            "391/391 [==============================] - 1s 3ms/step - loss: 2.7199 - accuracy: 0.8909 - val_loss: 3.4431 - val_accuracy: 0.8859\n",
            "Epoch 21/50\n",
            "391/391 [==============================] - 1s 3ms/step - loss: 2.6369 - accuracy: 0.8919 - val_loss: 3.3890 - val_accuracy: 0.8821\n",
            "Epoch 22/50\n",
            "391/391 [==============================] - 1s 3ms/step - loss: 2.5578 - accuracy: 0.8912 - val_loss: 3.2874 - val_accuracy: 0.8861\n",
            "Epoch 23/50\n",
            "391/391 [==============================] - 1s 3ms/step - loss: 2.4759 - accuracy: 0.8935 - val_loss: 3.2204 - val_accuracy: 0.8845\n",
            "Epoch 24/50\n",
            "391/391 [==============================] - 1s 3ms/step - loss: 2.4006 - accuracy: 0.8932 - val_loss: 3.1368 - val_accuracy: 0.8867\n",
            "Epoch 25/50\n",
            "391/391 [==============================] - 1s 3ms/step - loss: 2.3302 - accuracy: 0.8940 - val_loss: 3.1019 - val_accuracy: 0.8844\n",
            "Epoch 26/50\n",
            "391/391 [==============================] - 1s 3ms/step - loss: 2.2761 - accuracy: 0.8944 - val_loss: 3.0319 - val_accuracy: 0.8845\n",
            "Epoch 27/50\n",
            "391/391 [==============================] - 1s 3ms/step - loss: 2.2012 - accuracy: 0.8944 - val_loss: 2.9639 - val_accuracy: 0.8839\n",
            "Epoch 28/50\n",
            "391/391 [==============================] - 1s 3ms/step - loss: 2.1520 - accuracy: 0.8951 - val_loss: 2.8965 - val_accuracy: 0.8855\n",
            "Epoch 29/50\n",
            "391/391 [==============================] - 1s 3ms/step - loss: 2.0967 - accuracy: 0.8962 - val_loss: 2.8823 - val_accuracy: 0.8851\n",
            "Epoch 30/50\n",
            "391/391 [==============================] - 1s 3ms/step - loss: 2.0426 - accuracy: 0.8960 - val_loss: 2.8287 - val_accuracy: 0.8848\n",
            "Epoch 31/50\n",
            "391/391 [==============================] - 1s 3ms/step - loss: 1.9900 - accuracy: 0.8969 - val_loss: 2.7684 - val_accuracy: 0.8838\n",
            "Epoch 32/50\n",
            "391/391 [==============================] - 1s 3ms/step - loss: 1.9398 - accuracy: 0.8966 - val_loss: 2.7068 - val_accuracy: 0.8826\n",
            "Epoch 33/50\n",
            "391/391 [==============================] - 1s 3ms/step - loss: 1.9030 - accuracy: 0.8973 - val_loss: 2.6295 - val_accuracy: 0.8857\n",
            "Epoch 34/50\n",
            "391/391 [==============================] - 1s 3ms/step - loss: 1.8532 - accuracy: 0.8977 - val_loss: 2.6241 - val_accuracy: 0.8848\n",
            "Epoch 35/50\n",
            "391/391 [==============================] - 1s 3ms/step - loss: 1.8086 - accuracy: 0.8983 - val_loss: 2.5514 - val_accuracy: 0.8866\n",
            "Epoch 36/50\n",
            "391/391 [==============================] - 1s 3ms/step - loss: 1.7730 - accuracy: 0.8981 - val_loss: 2.4768 - val_accuracy: 0.8873\n",
            "Epoch 37/50\n",
            "391/391 [==============================] - 1s 3ms/step - loss: 1.7321 - accuracy: 0.8982 - val_loss: 2.4428 - val_accuracy: 0.8865\n",
            "Epoch 38/50\n",
            "391/391 [==============================] - 1s 3ms/step - loss: 1.6959 - accuracy: 0.9001 - val_loss: 2.5101 - val_accuracy: 0.8767\n",
            "Epoch 39/50\n",
            "391/391 [==============================] - 1s 3ms/step - loss: 1.6523 - accuracy: 0.9005 - val_loss: 2.4887 - val_accuracy: 0.8768\n",
            "Epoch 40/50\n",
            "391/391 [==============================] - 1s 3ms/step - loss: 1.6243 - accuracy: 0.8991 - val_loss: 2.3772 - val_accuracy: 0.8847\n",
            "Epoch 41/50\n",
            "391/391 [==============================] - 1s 3ms/step - loss: 1.5837 - accuracy: 0.8998 - val_loss: 2.3187 - val_accuracy: 0.8816\n",
            "Epoch 42/50\n",
            "391/391 [==============================] - 1s 3ms/step - loss: 1.5521 - accuracy: 0.9003 - val_loss: 2.2446 - val_accuracy: 0.8865\n",
            "Epoch 43/50\n",
            "391/391 [==============================] - 1s 3ms/step - loss: 1.5162 - accuracy: 0.8999 - val_loss: 2.2857 - val_accuracy: 0.8829\n",
            "Epoch 44/50\n",
            "391/391 [==============================] - 1s 3ms/step - loss: 1.4919 - accuracy: 0.9005 - val_loss: 2.2402 - val_accuracy: 0.8846\n",
            "Epoch 45/50\n",
            "391/391 [==============================] - 1s 3ms/step - loss: 1.4653 - accuracy: 0.9014 - val_loss: 2.1954 - val_accuracy: 0.8795\n",
            "Epoch 46/50\n",
            "391/391 [==============================] - 1s 3ms/step - loss: 1.4431 - accuracy: 0.9000 - val_loss: 2.1021 - val_accuracy: 0.8871\n",
            "Epoch 47/50\n",
            "391/391 [==============================] - 1s 3ms/step - loss: 1.4087 - accuracy: 0.9026 - val_loss: 2.2078 - val_accuracy: 0.8769\n",
            "Epoch 48/50\n",
            "391/391 [==============================] - 1s 3ms/step - loss: 1.3806 - accuracy: 0.9020 - val_loss: 2.0528 - val_accuracy: 0.8853\n",
            "Epoch 49/50\n",
            "391/391 [==============================] - 1s 3ms/step - loss: 1.3544 - accuracy: 0.9012 - val_loss: 1.9926 - val_accuracy: 0.8876\n",
            "Epoch 50/50\n",
            "391/391 [==============================] - 1s 3ms/step - loss: 1.3307 - accuracy: 0.9032 - val_loss: 2.0163 - val_accuracy: 0.8840\n"
          ],
          "name": "stdout"
        }
      ]
    },
    {
      "cell_type": "code",
      "metadata": {
        "id": "y_cOOw13QdKb",
        "colab_type": "code",
        "colab": {
          "base_uri": "https://localhost:8080/",
          "height": 279
        },
        "outputId": "72d04b05-c11d-4cbf-8a7f-2b6463a28c11"
      },
      "source": [
        "epochs = range(50)\n",
        "\n",
        "train_acc = history.history['accuracy']\n",
        "valid_acc = history.history['val_accuracy']\n",
        "plt.plot(epochs, train_acc, 'b', label='Training Accuracy')\n",
        "plt.plot(epochs, valid_acc, 'r', label='Validation Accuracy')\n",
        "plt.xlabel('Epochs')\n",
        "plt.ylabel('Accuray')\n",
        "plt.legend()\n",
        "plt.show()"
      ],
      "execution_count": 10,
      "outputs": [
        {
          "output_type": "display_data",
          "data": {
            "image/png": "[encoded data removed]",
            "text/plain": [
              "<Figure size 432x288 with 1 Axes>"
            ]
          },
          "metadata": {
            "tags": [],
            "needs_background": "light"
          }
        }
      ]
    },
    {
      "cell_type": "code",
      "metadata": {
        "id": "9L9-9A-xSOFw",
        "colab_type": "code",
        "colab": {
          "base_uri": "https://localhost:8080/",
          "height": 68
        },
        "outputId": "06789e72-e340-46a0-fb91-3fb901afdf3d"
      },
      "source": [
        "(loss, accuracy) = model.evaluate(x_test_vec, y_test_vec)\n",
        "\n",
        "print('loss: {}'.format(loss))\n",
        "print('accuracy: {}'.format(accuracy))"
      ],
      "execution_count": 11,
      "outputs": [
        {
          "output_type": "stream",
          "text": [
            "313/313 [==============================] - 1s 2ms/step - loss: 2.0038 - accuracy: 0.8856\n",
            "loss: 2.0037684440612793\n",
            "accuracy: 0.8855999708175659\n"
          ],
          "name": "stdout"
        }
      ]
    },
    {
      "cell_type": "code",
      "metadata": {
        "id": "iSbAM2YdS1_-",
        "colab_type": "code",
        "colab": {}
      },
      "source": [
        ""
      ],
      "execution_count": null,
      "outputs": []
    }
  ]
}