{
  "nbformat": 4,
  "nbformat_minor": 0,
  "metadata": {
    "colab": {
      "name": "Recitation3_MNIST.ipynb",
      "provenance": [],
      "collapsed_sections": [],
      "include_colab_link": true
    },
    "kernelspec": {
      "name": "python3",
      "display_name": "Python 3"
    },
    "accelerator": "GPU"
  },
  "cells": [
    {
      "cell_type": "markdown",
      "metadata": {
        "id": "view-in-github",
        "colab_type": "text"
      },
      "source": [
        "<a href=\"https://colab.research.google.com/github/sattviksahai/CS583B_Recitation/blob/master/Recitation3_MNIST.ipynb\" target=\"_parent\"><img src=\"https://colab.research.google.com/assets/colab-badge.svg\" alt=\"Open In Colab\"/></a>"
      ]
    },
    {
      "cell_type": "markdown",
      "metadata": {
        "id": "xNTVnt8DCcSE",
        "colab_type": "text"
      },
      "source": [
        "# Load MNIST dataset from Keras #"
      ]
    },
    {
      "cell_type": "code",
      "metadata": {
        "id": "B_EhB0SdBWy9",
        "colab_type": "code",
        "colab": {
          "base_uri": "https://localhost:8080/",
          "height": 85
        },
        "outputId": "2759f2d8-dcee-45c6-a9e7-34b6f9ae08fa"
      },
      "source": [
        "from keras.datasets import mnist\n",
        "\n",
        "(x_train, y_train), (x_test, y_test) = mnist.load_data()\n",
        "\n",
        "print('Shape of x_train: {}'.format(x_train.shape))\n",
        "print('Shape of y_train: {}'.format(y_train.shape))\n",
        "print('Shape of x_test: {}'.format(x_test.shape))\n",
        "print('Shape of x_test: {}'.format(y_test.shape))"
      ],
      "execution_count": 1,
      "outputs": [
        {
          "output_type": "stream",
          "text": [
            "Shape of x_train: (60000, 28, 28)\n",
            "Shape of y_train: (60000,)\n",
            "Shape of x_test: (10000, 28, 28)\n",
            "Shape of x_test: (10000,)\n"
          ],
          "name": "stdout"
        }
      ]
    },
    {
      "cell_type": "markdown",
      "metadata": {
        "id": "mLiTBrgpCVCL",
        "colab_type": "text"
      },
      "source": [
        "# Display a few example images from the MNIST dataset #\n",
        "\n",
        "dataset details are present in slides 3 and 4 of this [pdf](https://github.com/wangshusen/DeepLearning/blob/master/Slides/6_NeuralNet_1.pdf)"
      ]
    },
    {
      "cell_type": "code",
      "metadata": {
        "id": "TAQSEoB1Bjtu",
        "colab_type": "code",
        "colab": {
          "base_uri": "https://localhost:8080/",
          "height": 304
        },
        "outputId": "f1191852-2dab-4830-92d0-dfa34359d916"
      },
      "source": [
        "import matplotlib.pyplot as plt\n",
        "import random\n",
        "\n",
        "fig, axs = plt.subplots(1,5,figsize=(25,25))\n",
        "\n",
        "for i in range(5):\n",
        "  ind = random.randint(0,x_train.shape[0])\n",
        "  axs[i].imshow(x_train[ind,:,:], cmap='gray')\n",
        "  axs[i].set_title(y_train[ind])\n",
        "plt.show()"
      ],
      "execution_count": 2,
      "outputs": [
        {
          "output_type": "display_data",
          "data": {
            "image/png": "[encoded data removed]",
            "text/plain": [
              "<Figure size 1800x1800 with 5 Axes>"
            ]
          },
          "metadata": {
            "tags": [],
            "needs_background": "light"
          }
        }
      ]
    },
    {
      "cell_type": "markdown",
      "metadata": {
        "id": "sRtt4CxaE5iJ",
        "colab_type": "text"
      },
      "source": [
        "# Convert to Vector #"
      ]
    },
    {
      "cell_type": "code",
      "metadata": {
        "id": "EmtNI01IDDrp",
        "colab_type": "code",
        "colab": {
          "base_uri": "https://localhost:8080/",
          "height": 51
        },
        "outputId": "a04ea132-c655-4b3a-d187-1fff0aa084c5"
      },
      "source": [
        "x_train_vec = x_train.reshape(x_train.shape[0],-1)\n",
        "x_test_vec = x_test.reshape(x_test.shape[0],-1)\n",
        "\n",
        "print('Shape of x_train_vec: {}'.format(x_train_vec.shape))\n",
        "print('Shape of x_test_vec: {}'.format(x_test_vec.shape))"
      ],
      "execution_count": 3,
      "outputs": [
        {
          "output_type": "stream",
          "text": [
            "Shape of x_train_vec: (60000, 784)\n",
            "Shape of x_test_vec: (10000, 784)\n"
          ],
          "name": "stdout"
        }
      ]
    },
    {
      "cell_type": "code",
      "metadata": {
        "id": "Hogi24mUFMaP",
        "colab_type": "code",
        "colab": {
          "base_uri": "https://localhost:8080/",
          "height": 51
        },
        "outputId": "0114ef93-ba7b-4525-dee1-3116c8847129"
      },
      "source": [
        "import numpy as np\n",
        "\n",
        "def to_one_hot(labels, dimension=10):\n",
        "  result = np.zeros((len(labels), dimension))\n",
        "  for i, lab in enumerate(labels):\n",
        "    result[i, lab] = 1\n",
        "  return result\n",
        "\n",
        "y_train_vec = to_one_hot(y_train)\n",
        "y_test_vec = to_one_hot(y_test)\n",
        "\n",
        "print('Shape of one hot encoded y_train_vec: {}'.format(y_train_vec.shape))\n",
        "print('Shape of one hot encoded y_test_vec: {}'.format(y_test_vec.shape))"
      ],
      "execution_count": 4,
      "outputs": [
        {
          "output_type": "stream",
          "text": [
            "Shape of one hot encoded y_train_vec: (60000, 10)\n",
            "Shape of one hot encoded y_test_vec: (10000, 10)\n"
          ],
          "name": "stdout"
        }
      ]
    },
    {
      "cell_type": "markdown",
      "metadata": {
        "id": "g04BDpokMi73",
        "colab_type": "text"
      },
      "source": [
        "# Create validation set #"
      ]
    },
    {
      "cell_type": "code",
      "metadata": {
        "id": "HtpjhOA-ICdt",
        "colab_type": "code",
        "colab": {
          "base_uri": "https://localhost:8080/",
          "height": 85
        },
        "outputId": "c8784328-f679-451b-c3b7-dab9ad77c658"
      },
      "source": [
        "rand_indices = np.random.permutation(x_train_vec.shape[0])\n",
        "train_indices = rand_indices[:50000]\n",
        "valid_indies = rand_indices[50000:]\n",
        "\n",
        "x_valid_vec = x_train_vec[valid_indies, :]\n",
        "y_valid_vec = y_train_vec[valid_indies, :]\n",
        "\n",
        "x_train_vec = x_train_vec[train_indices,:]\n",
        "y_train_vec = y_train_vec[train_indices,:]\n",
        "\n",
        "print('Shape of x_valid_vec: {}'.format(x_valid_vec.shape))\n",
        "print('Shape of y_valid_vec: {}'.format(y_valid_vec.shape))\n",
        "print('Shape of x_train_vec: {}'.format(x_train_vec.shape))\n",
        "print('Shape of y_train_vec: {}'.format(y_train_vec.shape))"
      ],
      "execution_count": 5,
      "outputs": [
        {
          "output_type": "stream",
          "text": [
            "Shape of x_valid_vec: (10000, 784)\n",
            "Shape of y_valid_vec: (10000, 10)\n",
            "Shape of x_train_vec: (50000, 784)\n",
            "Shape of y_train_vec: (50000, 10)\n"
          ],
          "name": "stdout"
        }
      ]
    },
    {
      "cell_type": "markdown",
      "metadata": {
        "id": "3V4mGm_JNoI7",
        "colab_type": "text"
      },
      "source": [
        "# Define Softmax Model #"
      ]
    },
    {
      "cell_type": "code",
      "metadata": {
        "id": "vc44M1upMSvm",
        "colab_type": "code",
        "colab": {
          "base_uri": "https://localhost:8080/",
          "height": 344
        },
        "outputId": "dc6bf92a-8824-4423-dac4-fd03ff1a2117"
      },
      "source": [
        "from keras import models\n",
        "from keras import layers\n",
        "from keras.utils import plot_model\n",
        "\n",
        "model = models.Sequential()\n",
        "model.add(layers.Dense(10, activation='softmax', input_shape=(x_train_vec.shape[1],)))\n",
        "\n",
        "# print model summary\n",
        "model.summary()\n",
        "\n",
        "plot_model(model)"
      ],
      "execution_count": 6,
      "outputs": [
        {
          "output_type": "stream",
          "text": [
            "Model: \"sequential\"\n",
            "_________________________________________________________________\n",
            "Layer (type)                 Output Shape              Param #   \n",
            "=================================================================\n",
            "dense (Dense)                (None, 10)                7850      \n",
            "=================================================================\n",
            "Total params: 7,850\n",
            "Trainable params: 7,850\n",
            "Non-trainable params: 0\n",
            "_________________________________________________________________\n"
          ],
          "name": "stdout"
        },
        {
          "output_type": "execute_result",
          "data": {
            "image/png": "[encoded data removed]",
            "text/plain": [
              "<IPython.core.display.Image object>"
            ]
          },
          "metadata": {
            "tags": []
          },
          "execution_count": 6
        }
      ]
    },
    {
      "cell_type": "markdown",
      "metadata": {
        "id": "t4x1eJOSPo5d",
        "colab_type": "text"
      },
      "source": [
        "# Compile Model #"
      ]
    },
    {
      "cell_type": "code",
      "metadata": {
        "id": "CffZi6BGOUkO",
        "colab_type": "code",
        "colab": {}
      },
      "source": [
        "from keras import optimizers\n",
        "\n",
        "model.compile(optimizers.RMSprop(lr=0.0001),\n",
        "              loss='mean_squared_error',\n",
        "              metrics=['accuracy'])"
      ],
      "execution_count": 7,
      "outputs": []
    },
    {
      "cell_type": "markdown",
      "metadata": {
        "id": "M3qIx4XlQOHI",
        "colab_type": "text"
      },
      "source": [
        "# Train Model #"
      ]
    },
    {
      "cell_type": "code",
      "metadata": {
        "id": "054e4sThQFh2",
        "colab_type": "code",
        "colab": {
          "base_uri": "https://localhost:8080/",
          "height": 1000
        },
        "outputId": "13f7403f-0911-4516-ce91-aa95f3947a66"
      },
      "source": [
        "history = model.fit(x_train_vec, y_train_vec, batch_size=128, epochs=50, validation_data=(x_valid_vec, y_valid_vec))"
      ],
      "execution_count": 8,
      "outputs": [
        {
          "output_type": "stream",
          "text": [
            "Epoch 1/50\n",
            "391/391 [==============================] - 1s 4ms/step - loss: 0.1600 - accuracy: 0.1936 - val_loss: 0.1447 - val_accuracy: 0.2713\n",
            "Epoch 2/50\n",
            "391/391 [==============================] - 1s 4ms/step - loss: 0.1344 - accuracy: 0.3223 - val_loss: 0.1239 - val_accuracy: 0.3751\n",
            "Epoch 3/50\n",
            "391/391 [==============================] - 1s 4ms/step - loss: 0.1167 - accuracy: 0.4109 - val_loss: 0.1079 - val_accuracy: 0.4555\n",
            "Epoch 4/50\n",
            "391/391 [==============================] - 1s 4ms/step - loss: 0.1031 - accuracy: 0.4795 - val_loss: 0.0948 - val_accuracy: 0.5220\n",
            "Epoch 5/50\n",
            "391/391 [==============================] - 1s 4ms/step - loss: 0.0916 - accuracy: 0.5371 - val_loss: 0.0865 - val_accuracy: 0.5644\n",
            "Epoch 6/50\n",
            "391/391 [==============================] - 1s 3ms/step - loss: 0.0835 - accuracy: 0.5782 - val_loss: 0.0760 - val_accuracy: 0.6162\n",
            "Epoch 7/50\n",
            "391/391 [==============================] - 1s 3ms/step - loss: 0.0763 - accuracy: 0.6144 - val_loss: 0.0713 - val_accuracy: 0.6404\n",
            "Epoch 8/50\n",
            "391/391 [==============================] - 1s 3ms/step - loss: 0.0712 - accuracy: 0.6402 - val_loss: 0.0677 - val_accuracy: 0.6578\n",
            "Epoch 9/50\n",
            "391/391 [==============================] - 1s 3ms/step - loss: 0.0658 - accuracy: 0.6676 - val_loss: 0.0631 - val_accuracy: 0.6809\n",
            "Epoch 10/50\n",
            "391/391 [==============================] - 1s 4ms/step - loss: 0.0618 - accuracy: 0.6882 - val_loss: 0.0598 - val_accuracy: 0.6977\n",
            "Epoch 11/50\n",
            "391/391 [==============================] - 1s 3ms/step - loss: 0.0593 - accuracy: 0.7006 - val_loss: 0.0570 - val_accuracy: 0.7118\n",
            "Epoch 12/50\n",
            "391/391 [==============================] - 1s 3ms/step - loss: 0.0571 - accuracy: 0.7116 - val_loss: 0.0555 - val_accuracy: 0.7197\n",
            "Epoch 13/50\n",
            "391/391 [==============================] - 1s 3ms/step - loss: 0.0554 - accuracy: 0.7201 - val_loss: 0.0537 - val_accuracy: 0.7294\n",
            "Epoch 14/50\n",
            "391/391 [==============================] - 1s 4ms/step - loss: 0.0538 - accuracy: 0.7279 - val_loss: 0.0524 - val_accuracy: 0.7358\n",
            "Epoch 15/50\n",
            "391/391 [==============================] - 1s 4ms/step - loss: 0.0526 - accuracy: 0.7341 - val_loss: 0.0509 - val_accuracy: 0.7427\n",
            "Epoch 16/50\n",
            "391/391 [==============================] - 1s 4ms/step - loss: 0.0511 - accuracy: 0.7419 - val_loss: 0.0495 - val_accuracy: 0.7503\n",
            "Epoch 17/50\n",
            "391/391 [==============================] - 1s 3ms/step - loss: 0.0500 - accuracy: 0.7477 - val_loss: 0.0494 - val_accuracy: 0.7507\n",
            "Epoch 18/50\n",
            "391/391 [==============================] - 1s 4ms/step - loss: 0.0493 - accuracy: 0.7513 - val_loss: 0.0477 - val_accuracy: 0.7590\n",
            "Epoch 19/50\n",
            "391/391 [==============================] - 1s 3ms/step - loss: 0.0480 - accuracy: 0.7572 - val_loss: 0.0475 - val_accuracy: 0.7604\n",
            "Epoch 20/50\n",
            "391/391 [==============================] - 1s 3ms/step - loss: 0.0474 - accuracy: 0.7608 - val_loss: 0.0461 - val_accuracy: 0.7669\n",
            "Epoch 21/50\n",
            "391/391 [==============================] - 1s 3ms/step - loss: 0.0464 - accuracy: 0.7658 - val_loss: 0.0452 - val_accuracy: 0.7713\n",
            "Epoch 22/50\n",
            "391/391 [==============================] - 1s 3ms/step - loss: 0.0455 - accuracy: 0.7699 - val_loss: 0.0443 - val_accuracy: 0.7765\n",
            "Epoch 23/50\n",
            "391/391 [==============================] - 1s 3ms/step - loss: 0.0448 - accuracy: 0.7739 - val_loss: 0.0438 - val_accuracy: 0.7779\n",
            "Epoch 24/50\n",
            "391/391 [==============================] - 1s 3ms/step - loss: 0.0441 - accuracy: 0.7776 - val_loss: 0.0436 - val_accuracy: 0.7803\n",
            "Epoch 25/50\n",
            "391/391 [==============================] - 1s 3ms/step - loss: 0.0436 - accuracy: 0.7797 - val_loss: 0.0431 - val_accuracy: 0.7825\n",
            "Epoch 26/50\n",
            "391/391 [==============================] - 1s 3ms/step - loss: 0.0434 - accuracy: 0.7812 - val_loss: 0.0426 - val_accuracy: 0.7850\n",
            "Epoch 27/50\n",
            "391/391 [==============================] - 1s 3ms/step - loss: 0.0428 - accuracy: 0.7841 - val_loss: 0.0427 - val_accuracy: 0.7846\n",
            "Epoch 28/50\n",
            "391/391 [==============================] - 1s 3ms/step - loss: 0.0424 - accuracy: 0.7855 - val_loss: 0.0417 - val_accuracy: 0.7898\n",
            "Epoch 29/50\n",
            "391/391 [==============================] - 1s 3ms/step - loss: 0.0420 - accuracy: 0.7879 - val_loss: 0.0423 - val_accuracy: 0.7866\n",
            "Epoch 30/50\n",
            "391/391 [==============================] - 1s 3ms/step - loss: 0.0414 - accuracy: 0.7909 - val_loss: 0.0413 - val_accuracy: 0.7921\n",
            "Epoch 31/50\n",
            "391/391 [==============================] - 1s 3ms/step - loss: 0.0411 - accuracy: 0.7925 - val_loss: 0.0415 - val_accuracy: 0.7907\n",
            "Epoch 32/50\n",
            "391/391 [==============================] - 1s 3ms/step - loss: 0.0409 - accuracy: 0.7935 - val_loss: 0.0412 - val_accuracy: 0.7917\n",
            "Epoch 33/50\n",
            "391/391 [==============================] - 1s 3ms/step - loss: 0.0404 - accuracy: 0.7960 - val_loss: 0.0410 - val_accuracy: 0.7928\n",
            "Epoch 34/50\n",
            "391/391 [==============================] - 1s 3ms/step - loss: 0.0404 - accuracy: 0.7960 - val_loss: 0.0404 - val_accuracy: 0.7965\n",
            "Epoch 35/50\n",
            "391/391 [==============================] - 1s 3ms/step - loss: 0.0400 - accuracy: 0.7980 - val_loss: 0.0404 - val_accuracy: 0.7962\n",
            "Epoch 36/50\n",
            "391/391 [==============================] - 1s 4ms/step - loss: 0.0400 - accuracy: 0.7980 - val_loss: 0.0409 - val_accuracy: 0.7930\n",
            "Epoch 37/50\n",
            "391/391 [==============================] - 1s 4ms/step - loss: 0.0396 - accuracy: 0.8000 - val_loss: 0.0405 - val_accuracy: 0.7958\n",
            "Epoch 38/50\n",
            "391/391 [==============================] - 1s 3ms/step - loss: 0.0395 - accuracy: 0.8009 - val_loss: 0.0403 - val_accuracy: 0.7962\n",
            "Epoch 39/50\n",
            "391/391 [==============================] - 1s 3ms/step - loss: 0.0393 - accuracy: 0.8018 - val_loss: 0.0402 - val_accuracy: 0.7973\n",
            "Epoch 40/50\n",
            "391/391 [==============================] - 1s 3ms/step - loss: 0.0392 - accuracy: 0.8021 - val_loss: 0.0404 - val_accuracy: 0.7956\n",
            "Epoch 41/50\n",
            "391/391 [==============================] - 1s 3ms/step - loss: 0.0390 - accuracy: 0.8033 - val_loss: 0.0394 - val_accuracy: 0.8012\n",
            "Epoch 42/50\n",
            "391/391 [==============================] - 1s 3ms/step - loss: 0.0388 - accuracy: 0.8044 - val_loss: 0.0393 - val_accuracy: 0.8016\n",
            "Epoch 43/50\n",
            "391/391 [==============================] - 1s 3ms/step - loss: 0.0387 - accuracy: 0.8046 - val_loss: 0.0397 - val_accuracy: 0.7994\n",
            "Epoch 44/50\n",
            "391/391 [==============================] - 1s 3ms/step - loss: 0.0386 - accuracy: 0.8056 - val_loss: 0.0395 - val_accuracy: 0.8009\n",
            "Epoch 45/50\n",
            "391/391 [==============================] - 1s 3ms/step - loss: 0.0382 - accuracy: 0.8072 - val_loss: 0.0396 - val_accuracy: 0.8001\n",
            "Epoch 46/50\n",
            "391/391 [==============================] - 1s 3ms/step - loss: 0.0383 - accuracy: 0.8068 - val_loss: 0.0391 - val_accuracy: 0.8027\n",
            "Epoch 47/50\n",
            "391/391 [==============================] - 1s 3ms/step - loss: 0.0380 - accuracy: 0.8082 - val_loss: 0.0394 - val_accuracy: 0.8016\n",
            "Epoch 48/50\n",
            "391/391 [==============================] - 1s 3ms/step - loss: 0.0382 - accuracy: 0.8072 - val_loss: 0.0389 - val_accuracy: 0.8035\n",
            "Epoch 49/50\n",
            "391/391 [==============================] - 1s 4ms/step - loss: 0.0377 - accuracy: 0.8096 - val_loss: 0.0390 - val_accuracy: 0.8030\n",
            "Epoch 50/50\n",
            "391/391 [==============================] - 1s 4ms/step - loss: 0.0377 - accuracy: 0.8100 - val_loss: 0.0391 - val_accuracy: 0.8028\n"
          ],
          "name": "stdout"
        }
      ]
    },
    {
      "cell_type": "code",
      "metadata": {
        "id": "y_cOOw13QdKb",
        "colab_type": "code",
        "colab": {
          "base_uri": "https://localhost:8080/",
          "height": 279
        },
        "outputId": "146dd24b-55c3-4eb9-d6fa-210cae212685"
      },
      "source": [
        "epochs = range(50)\n",
        "\n",
        "train_acc = history.history['accuracy']\n",
        "valid_acc = history.history['val_accuracy']\n",
        "plt.plot(epochs, train_acc, 'b', label='Training Accuracy')\n",
        "plt.plot(epochs, valid_acc, 'r', label='Validation Accuracy')\n",
        "plt.xlabel('Epochs')\n",
        "plt.ylabel('Accuray')\n",
        "plt.legend()\n",
        "plt.show()"
      ],
      "execution_count": 9,
      "outputs": [
        {
          "output_type": "display_data",
          "data": {
            "image/png": "[encoded data removed]",
            "text/plain": [
              "<Figure size 432x288 with 1 Axes>"
            ]
          },
          "metadata": {
            "tags": [],
            "needs_background": "light"
          }
        }
      ]
    },
    {
      "cell_type": "code",
      "metadata": {
        "id": "9L9-9A-xSOFw",
        "colab_type": "code",
        "colab": {
          "base_uri": "https://localhost:8080/",
          "height": 68
        },
        "outputId": "cafa8dbb-474e-4c21-c6a3-b50ebb67dcc3"
      },
      "source": [
        "(loss, accuracy) = model.evaluate(x_test_vec, y_test_vec)\n",
        "\n",
        "print('loss: {}'.format(loss))\n",
        "print('accuracy: {}'.format(accuracy))"
      ],
      "execution_count": 10,
      "outputs": [
        {
          "output_type": "stream",
          "text": [
            "313/313 [==============================] - 1s 2ms/step - loss: 0.0375 - accuracy: 0.8111\n",
            "loss: 0.037501875311136246\n",
            "accuracy: 0.8111000061035156\n"
          ],
          "name": "stdout"
        }
      ]
    },
    {
      "cell_type": "code",
      "metadata": {
        "id": "iSbAM2YdS1_-",
        "colab_type": "code",
        "colab": {}
      },
      "source": [
        ""
      ],
      "execution_count": 10,
      "outputs": []
    }
  ]
}