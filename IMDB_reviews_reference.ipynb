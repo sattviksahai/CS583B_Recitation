{
  "nbformat": 4,
  "nbformat_minor": 0,
  "metadata": {
    "colab": {
      "name": "IMDB_reviews_reference.ipynb",
      "provenance": [],
      "collapsed_sections": [],
      "authorship_tag": "ABX9TyO0JEOAQqGS66lrALb8O/lz",
      "include_colab_link": true
    },
    "kernelspec": {
      "name": "python3",
      "display_name": "Python 3"
    },
    "accelerator": "GPU"
  },
  "cells": [
    {
      "cell_type": "markdown",
      "metadata": {
        "id": "view-in-github",
        "colab_type": "text"
      },
      "source": [
        "<a href=\"https://colab.research.google.com/github/sattviksahai/CS583B_Recitation/blob/master/IMDB_reviews_reference.ipynb\" target=\"_parent\"><img src=\"https://colab.research.google.com/assets/colab-badge.svg\" alt=\"Open In Colab\"/></a>"
      ]
    },
    {
      "cell_type": "markdown",
      "metadata": {
        "id": "ybCbGJxJ67Jm",
        "colab_type": "text"
      },
      "source": [
        "Mount Google Drive"
      ]
    },
    {
      "cell_type": "code",
      "metadata": {
        "id": "N4FYeXSGxyPy",
        "colab_type": "code",
        "outputId": "c27234f2-4753-4a58-dd65-de0a14e798d0",
        "colab": {
          "base_uri": "https://localhost:8080/",
          "height": 122
        }
      },
      "source": [
        "from google.colab import drive\n",
        "drive.mount('/content/drive')"
      ],
      "execution_count": 1,
      "outputs": [
        {
          "output_type": "stream",
          "text": [
            "Go to this URL in a browser: https://accounts.google.com/o/oauth2/auth?client_id=947318989803-6bn6qk8qdgf4n4g3pfee6491hc0brc4i.apps.googleusercontent.com&redirect_uri=urn%3aietf%3awg%3aoauth%3a2.0%3aoob&response_type=code&scope=email%20https%3a%2f%2fwww.googleapis.com%2fauth%2fdocs.test%20https%3a%2f%2fwww.googleapis.com%2fauth%2fdrive%20https%3a%2f%2fwww.googleapis.com%2fauth%2fdrive.photos.readonly%20https%3a%2f%2fwww.googleapis.com%2fauth%2fpeopleapi.readonly\n",
            "\n",
            "Enter your authorization code:\n",
            "··········\n",
            "Mounted at /content/drive\n"
          ],
          "name": "stdout"
        }
      ]
    },
    {
      "cell_type": "markdown",
      "metadata": {
        "id": "TaTg_hEA7BMr",
        "colab_type": "text"
      },
      "source": [
        "Extract data"
      ]
    },
    {
      "cell_type": "code",
      "metadata": {
        "id": "JClfCvj-x6vp",
        "colab_type": "code",
        "outputId": "88124712-3894-4ab8-e838-679cd42b3a20",
        "colab": {
          "base_uri": "https://localhost:8080/",
          "height": 34
        }
      },
      "source": [
        "!tar -xf 'drive/My Drive/aclImdb_v1.tar.gz'\n",
        "! rm -rf aclImdb/train/unsup/\n",
        "!ls"
      ],
      "execution_count": 2,
      "outputs": [
        {
          "output_type": "stream",
          "text": [
            "aclImdb  drive\tsample_data\n"
          ],
          "name": "stdout"
        }
      ]
    },
    {
      "cell_type": "markdown",
      "metadata": {
        "id": "Cw6K2qoc7D6L",
        "colab_type": "text"
      },
      "source": [
        "Read Training Data"
      ]
    },
    {
      "cell_type": "code",
      "metadata": {
        "id": "BlW9g0YLyZt8",
        "colab_type": "code",
        "colab": {}
      },
      "source": [
        "import os\n",
        "imdb_dir = './aclImdb'\n",
        "train_dir = os.path.join(imdb_dir, 'train')\n",
        "labels_train = []\n",
        "texts_train = []\n",
        "for label_type in ['pos', 'neg']:\n",
        "  dir_name = os.path.join(train_dir, label_type)\n",
        "  for fname in os.listdir(dir_name):\n",
        "    if fname[-4:] == '.txt':\n",
        "      f = open(os.path.join(dir_name, fname))\n",
        "      texts_train.append(f.read())\n",
        "      f.close()\n",
        "      if label_type == 'neg':\n",
        "        labels_train.append(0)\n",
        "      else:\n",
        "        labels_train.append(1)"
      ],
      "execution_count": 0,
      "outputs": []
    },
    {
      "cell_type": "code",
      "metadata": {
        "id": "K1ybpc2sy4vG",
        "colab_type": "code",
        "outputId": "b5f0643c-8420-448c-9188-0a170d416794",
        "colab": {
          "base_uri": "https://localhost:8080/",
          "height": 51
        }
      },
      "source": [
        "print('Number of training samples: '+str(len(texts_train)))\n",
        "print('Number of training labels: '+str(len(labels_train)))"
      ],
      "execution_count": 4,
      "outputs": [
        {
          "output_type": "stream",
          "text": [
            "Number of training samples: 25000\n",
            "Number of training labels: 25000\n"
          ],
          "name": "stdout"
        }
      ]
    },
    {
      "cell_type": "markdown",
      "metadata": {
        "id": "6VuIAwD17MVS",
        "colab_type": "text"
      },
      "source": [
        "Display random review with label"
      ]
    },
    {
      "cell_type": "code",
      "metadata": {
        "id": "WCcBAtm9zGez",
        "colab_type": "code",
        "outputId": "091af818-ee4e-4290-89ea-d4e11332086a",
        "colab": {
          "base_uri": "https://localhost:8080/",
          "height": 88
        }
      },
      "source": [
        "import numpy as np\n",
        "\n",
        "i=np.random.randint(len(labels_train))\n",
        "print('label #'+str(i)+': '+str(labels_train[i]))\n",
        "print('text #'+str(i)+':')\n",
        "print(texts_train[i])"
      ],
      "execution_count": 5,
      "outputs": [
        {
          "output_type": "stream",
          "text": [
            "label #4571: 1\n",
            "text #4571:\n",
            "Oh yeah! Jenna Jameson did it again! Yeah Baby! This movie rocks. It was one of the 1st movies i saw of her. And i have to say i feel in love with her, she was great in this move.<br /><br />Her performance was outstanding and what i liked the most was the scenery and the wardrobe it was amazing you can tell that they put a lot into the movie the girls cloth were amazing.<br /><br />I hope this comment helps and u can buy the movie, the storyline is awesome is very unique and i'm sure u are going to like it. Jenna amazed us once more and no wonder the movie won so many awards. Her make-up and wardrobe is very very sexy and the girls on girls scene is amazing. specially the one where she looks like an angel. It's a must see and i hope u share my interests\n"
          ],
          "name": "stdout"
        }
      ]
    },
    {
      "cell_type": "markdown",
      "metadata": {
        "id": "glcjZ8F67qGe",
        "colab_type": "text"
      },
      "source": [
        "Tokenize the text"
      ]
    },
    {
      "cell_type": "code",
      "metadata": {
        "id": "eMRKRr9oGZAV",
        "colab_type": "code",
        "outputId": "9b208a04-b8b7-4b4f-96cc-a603bf6b1b08",
        "colab": {
          "base_uri": "https://localhost:8080/",
          "height": 34
        }
      },
      "source": [
        "from keras.preprocessing.text import Tokenizer\n",
        "\n",
        "vocabulary = 10000\n",
        "tokenizer = Tokenizer(num_words=vocabulary)\n",
        "tokenizer.fit_on_texts(texts_train)\n",
        "\n",
        "word_index = tokenizer.word_index\n",
        "sequences_train = tokenizer.texts_to_sequences(texts_train)"
      ],
      "execution_count": 6,
      "outputs": [
        {
          "output_type": "stream",
          "text": [
            "Using TensorFlow backend.\n"
          ],
          "name": "stderr"
        }
      ]
    },
    {
      "cell_type": "markdown",
      "metadata": {
        "id": "eBBp2Z8QHxYm",
        "colab_type": "text"
      },
      "source": [
        "Add Padding"
      ]
    },
    {
      "cell_type": "code",
      "metadata": {
        "id": "Tl07PiXIGmq6",
        "colab_type": "code",
        "colab": {}
      },
      "source": [
        "from keras import preprocessing\n",
        "\n",
        "word_num = 20\n",
        "x_train_val = preprocessing.sequence.pad_sequences(sequences_train, maxlen=word_num)"
      ],
      "execution_count": 0,
      "outputs": []
    },
    {
      "cell_type": "code",
      "metadata": {
        "id": "BaP4aYmxGwME",
        "colab_type": "code",
        "outputId": "b00c94bd-1787-48b6-f6af-b970f7263359",
        "colab": {
          "base_uri": "https://localhost:8080/",
          "height": 34
        }
      },
      "source": [
        "print(x_train_val.shape)"
      ],
      "execution_count": 8,
      "outputs": [
        {
          "output_type": "stream",
          "text": [
            "(25000, 20)\n"
          ],
          "name": "stdout"
        }
      ]
    },
    {
      "cell_type": "markdown",
      "metadata": {
        "id": "JZnvDIn7tRqb",
        "colab_type": "text"
      },
      "source": [
        "Training Validation split"
      ]
    },
    {
      "cell_type": "code",
      "metadata": {
        "id": "r33fJkrwtPq3",
        "colab_type": "code",
        "outputId": "56d098f2-afef-4124-c046-73cbb91f17a8",
        "colab": {
          "base_uri": "https://localhost:8080/",
          "height": 85
        }
      },
      "source": [
        "split_ratio = 0.8\n",
        "\n",
        "indices = np.arange(x_train_val.shape[0])\n",
        "np.random.shuffle(indices)\n",
        "\n",
        "x_train = x_train_val[indices[:int(len(indices)*split_ratio)]]\n",
        "x_val = x_train_val[indices[int(len(indices)*split_ratio):]]\n",
        "\n",
        "labels_train = np.array(labels_train)\n",
        "y_train = labels_train[indices[:int(len(indices)*split_ratio)]]\n",
        "y_val = labels_train[indices[int(len(indices)*split_ratio):]]\n",
        "print('Shape of training data: ', x_train.shape)\n",
        "print('Shape of training labels: ', y_train.shape)\n",
        "print('Shape of validation data: ', x_val.shape)\n",
        "print('Shape of validation labels: ', y_val.shape)"
      ],
      "execution_count": 9,
      "outputs": [
        {
          "output_type": "stream",
          "text": [
            "Shape of training data:  (20000, 20)\n",
            "Shape of training labels:  (20000,)\n",
            "Shape of validation data:  (5000, 20)\n",
            "Shape of validation labels:  (5000,)\n"
          ],
          "name": "stdout"
        }
      ]
    },
    {
      "cell_type": "markdown",
      "metadata": {
        "id": "4xc9u2UYH1ih",
        "colab_type": "text"
      },
      "source": [
        "Define Model"
      ]
    },
    {
      "cell_type": "code",
      "metadata": {
        "id": "XEacTKEgGz-O",
        "colab_type": "code",
        "outputId": "924e3f21-5b2b-438d-a525-f61d910e7be2",
        "colab": {
          "base_uri": "https://localhost:8080/",
          "height": 255
        }
      },
      "source": [
        "from tensorflow.keras.models import Sequential\n",
        "from tensorflow.keras.layers import Flatten, Dense, Embedding\n",
        "\n",
        "embedding_dim = 8\n",
        "\n",
        "model = Sequential()\n",
        "model.add(Embedding(vocabulary, embedding_dim, input_length=word_num))\n",
        "model.add(Flatten())\n",
        "model.add(Dense(1, activation='sigmoid'))\n",
        "\n",
        "model.summary()"
      ],
      "execution_count": 14,
      "outputs": [
        {
          "output_type": "stream",
          "text": [
            "Model: \"sequential\"\n",
            "_________________________________________________________________\n",
            "Layer (type)                 Output Shape              Param #   \n",
            "=================================================================\n",
            "embedding (Embedding)        (None, 20, 8)             80000     \n",
            "_________________________________________________________________\n",
            "flatten (Flatten)            (None, 160)               0         \n",
            "_________________________________________________________________\n",
            "dense (Dense)                (None, 1)                 161       \n",
            "=================================================================\n",
            "Total params: 80,161\n",
            "Trainable params: 80,161\n",
            "Non-trainable params: 0\n",
            "_________________________________________________________________\n"
          ],
          "name": "stdout"
        }
      ]
    },
    {
      "cell_type": "markdown",
      "metadata": {
        "id": "j5t53-Q2H338",
        "colab_type": "text"
      },
      "source": [
        "Define Optimizer"
      ]
    },
    {
      "cell_type": "code",
      "metadata": {
        "id": "BuSevdGWHv7u",
        "colab_type": "code",
        "colab": {}
      },
      "source": [
        "from tensorflow.keras import optimizers\n",
        "\n",
        "epochs = 50\n",
        "\n",
        "model.compile(optimizer=optimizers.RMSprop(lr=0.0001),\n",
        "            loss='binary_crossentropy', metrics=['acc'])"
      ],
      "execution_count": 0,
      "outputs": []
    },
    {
      "cell_type": "markdown",
      "metadata": {
        "id": "Ql7sDg7_H62D",
        "colab_type": "text"
      },
      "source": [
        "Train"
      ]
    },
    {
      "cell_type": "code",
      "metadata": {
        "id": "ulfs3Ly4IEqm",
        "colab_type": "code",
        "outputId": "241fde50-9e46-477c-8243-3bb5a71a6454",
        "colab": {
          "base_uri": "https://localhost:8080/",
          "height": 1000
        }
      },
      "source": [
        "history = model.fit(x_train, y_train, epochs=epochs,\n",
        "                    batch_size=32, validation_data=(x_val, y_val))"
      ],
      "execution_count": 17,
      "outputs": [
        {
          "output_type": "stream",
          "text": [
            "Epoch 1/50\n",
            "625/625 [==============================] - 3s 4ms/step - loss: 0.6925 - acc: 0.5170 - val_loss: 0.6924 - val_acc: 0.5218\n",
            "Epoch 2/50\n",
            "625/625 [==============================] - 2s 4ms/step - loss: 0.6899 - acc: 0.5601 - val_loss: 0.6907 - val_acc: 0.5478\n",
            "Epoch 3/50\n",
            "625/625 [==============================] - 2s 4ms/step - loss: 0.6865 - acc: 0.6043 - val_loss: 0.6881 - val_acc: 0.5788\n",
            "Epoch 4/50\n",
            "625/625 [==============================] - 2s 4ms/step - loss: 0.6818 - acc: 0.6436 - val_loss: 0.6842 - val_acc: 0.6038\n",
            "Epoch 5/50\n",
            "625/625 [==============================] - 2s 4ms/step - loss: 0.6752 - acc: 0.6744 - val_loss: 0.6785 - val_acc: 0.6240\n",
            "Epoch 6/50\n",
            "625/625 [==============================] - 2s 4ms/step - loss: 0.6664 - acc: 0.6984 - val_loss: 0.6710 - val_acc: 0.6446\n",
            "Epoch 7/50\n",
            "625/625 [==============================] - 3s 4ms/step - loss: 0.6553 - acc: 0.7146 - val_loss: 0.6615 - val_acc: 0.6602\n",
            "Epoch 8/50\n",
            "625/625 [==============================] - 3s 4ms/step - loss: 0.6422 - acc: 0.7251 - val_loss: 0.6506 - val_acc: 0.6692\n",
            "Epoch 9/50\n",
            "625/625 [==============================] - 3s 4ms/step - loss: 0.6274 - acc: 0.7326 - val_loss: 0.6385 - val_acc: 0.6770\n",
            "Epoch 10/50\n",
            "625/625 [==============================] - 2s 4ms/step - loss: 0.6117 - acc: 0.7384 - val_loss: 0.6260 - val_acc: 0.6834\n",
            "Epoch 11/50\n",
            "625/625 [==============================] - 2s 4ms/step - loss: 0.5956 - acc: 0.7441 - val_loss: 0.6134 - val_acc: 0.6918\n",
            "Epoch 12/50\n",
            "625/625 [==============================] - 2s 4ms/step - loss: 0.5796 - acc: 0.7486 - val_loss: 0.6012 - val_acc: 0.6982\n",
            "Epoch 13/50\n",
            "625/625 [==============================] - 2s 4ms/step - loss: 0.5642 - acc: 0.7542 - val_loss: 0.5897 - val_acc: 0.7030\n",
            "Epoch 14/50\n",
            "625/625 [==============================] - 2s 4ms/step - loss: 0.5496 - acc: 0.7588 - val_loss: 0.5789 - val_acc: 0.7058\n",
            "Epoch 15/50\n",
            "625/625 [==============================] - 2s 4ms/step - loss: 0.5359 - acc: 0.7634 - val_loss: 0.5691 - val_acc: 0.7122\n",
            "Epoch 16/50\n",
            "625/625 [==============================] - 2s 4ms/step - loss: 0.5232 - acc: 0.7675 - val_loss: 0.5601 - val_acc: 0.7180\n",
            "Epoch 17/50\n",
            "625/625 [==============================] - 2s 4ms/step - loss: 0.5113 - acc: 0.7728 - val_loss: 0.5519 - val_acc: 0.7234\n",
            "Epoch 18/50\n",
            "625/625 [==============================] - 2s 4ms/step - loss: 0.5004 - acc: 0.7775 - val_loss: 0.5445 - val_acc: 0.7264\n",
            "Epoch 19/50\n",
            "625/625 [==============================] - 2s 4ms/step - loss: 0.4904 - acc: 0.7829 - val_loss: 0.5380 - val_acc: 0.7302\n",
            "Epoch 20/50\n",
            "625/625 [==============================] - 2s 4ms/step - loss: 0.4811 - acc: 0.7873 - val_loss: 0.5320 - val_acc: 0.7328\n",
            "Epoch 21/50\n",
            "625/625 [==============================] - 2s 4ms/step - loss: 0.4725 - acc: 0.7904 - val_loss: 0.5267 - val_acc: 0.7354\n",
            "Epoch 22/50\n",
            "625/625 [==============================] - 2s 4ms/step - loss: 0.4644 - acc: 0.7939 - val_loss: 0.5219 - val_acc: 0.7386\n",
            "Epoch 23/50\n",
            "625/625 [==============================] - 2s 4ms/step - loss: 0.4570 - acc: 0.7971 - val_loss: 0.5176 - val_acc: 0.7406\n",
            "Epoch 24/50\n",
            "625/625 [==============================] - 2s 4ms/step - loss: 0.4500 - acc: 0.7996 - val_loss: 0.5139 - val_acc: 0.7416\n",
            "Epoch 25/50\n",
            "625/625 [==============================] - 2s 4ms/step - loss: 0.4435 - acc: 0.8029 - val_loss: 0.5105 - val_acc: 0.7438\n",
            "Epoch 26/50\n",
            "625/625 [==============================] - 2s 4ms/step - loss: 0.4373 - acc: 0.8058 - val_loss: 0.5076 - val_acc: 0.7450\n",
            "Epoch 27/50\n",
            "625/625 [==============================] - 2s 4ms/step - loss: 0.4316 - acc: 0.8089 - val_loss: 0.5049 - val_acc: 0.7464\n",
            "Epoch 28/50\n",
            "625/625 [==============================] - 2s 4ms/step - loss: 0.4260 - acc: 0.8122 - val_loss: 0.5027 - val_acc: 0.7482\n",
            "Epoch 29/50\n",
            "625/625 [==============================] - 2s 4ms/step - loss: 0.4208 - acc: 0.8143 - val_loss: 0.5006 - val_acc: 0.7502\n",
            "Epoch 30/50\n",
            "625/625 [==============================] - 2s 4ms/step - loss: 0.4158 - acc: 0.8174 - val_loss: 0.4988 - val_acc: 0.7512\n",
            "Epoch 31/50\n",
            "625/625 [==============================] - 2s 4ms/step - loss: 0.4111 - acc: 0.8194 - val_loss: 0.4972 - val_acc: 0.7518\n",
            "Epoch 32/50\n",
            "625/625 [==============================] - 2s 4ms/step - loss: 0.4065 - acc: 0.8222 - val_loss: 0.4959 - val_acc: 0.7526\n",
            "Epoch 33/50\n",
            "625/625 [==============================] - 2s 4ms/step - loss: 0.4021 - acc: 0.8242 - val_loss: 0.4946 - val_acc: 0.7556\n",
            "Epoch 34/50\n",
            "625/625 [==============================] - 2s 4ms/step - loss: 0.3979 - acc: 0.8263 - val_loss: 0.4935 - val_acc: 0.7558\n",
            "Epoch 35/50\n",
            "625/625 [==============================] - 2s 4ms/step - loss: 0.3939 - acc: 0.8283 - val_loss: 0.4926 - val_acc: 0.7552\n",
            "Epoch 36/50\n",
            "625/625 [==============================] - 2s 4ms/step - loss: 0.3899 - acc: 0.8299 - val_loss: 0.4919 - val_acc: 0.7566\n",
            "Epoch 37/50\n",
            "625/625 [==============================] - 2s 4ms/step - loss: 0.3861 - acc: 0.8327 - val_loss: 0.4913 - val_acc: 0.7584\n",
            "Epoch 38/50\n",
            "625/625 [==============================] - 2s 4ms/step - loss: 0.3824 - acc: 0.8349 - val_loss: 0.4907 - val_acc: 0.7596\n",
            "Epoch 39/50\n",
            "625/625 [==============================] - 2s 4ms/step - loss: 0.3788 - acc: 0.8360 - val_loss: 0.4904 - val_acc: 0.7608\n",
            "Epoch 40/50\n",
            "625/625 [==============================] - 2s 4ms/step - loss: 0.3753 - acc: 0.8395 - val_loss: 0.4901 - val_acc: 0.7600\n",
            "Epoch 41/50\n",
            "625/625 [==============================] - 2s 4ms/step - loss: 0.3719 - acc: 0.8405 - val_loss: 0.4899 - val_acc: 0.7624\n",
            "Epoch 42/50\n",
            "625/625 [==============================] - 2s 4ms/step - loss: 0.3685 - acc: 0.8427 - val_loss: 0.4899 - val_acc: 0.7626\n",
            "Epoch 43/50\n",
            "625/625 [==============================] - 2s 4ms/step - loss: 0.3652 - acc: 0.8438 - val_loss: 0.4898 - val_acc: 0.7614\n",
            "Epoch 44/50\n",
            "625/625 [==============================] - 2s 4ms/step - loss: 0.3620 - acc: 0.8452 - val_loss: 0.4899 - val_acc: 0.7614\n",
            "Epoch 45/50\n",
            "625/625 [==============================] - 2s 4ms/step - loss: 0.3589 - acc: 0.8471 - val_loss: 0.4901 - val_acc: 0.7612\n",
            "Epoch 46/50\n",
            "625/625 [==============================] - 2s 4ms/step - loss: 0.3558 - acc: 0.8482 - val_loss: 0.4902 - val_acc: 0.7614\n",
            "Epoch 47/50\n",
            "625/625 [==============================] - 2s 4ms/step - loss: 0.3527 - acc: 0.8496 - val_loss: 0.4904 - val_acc: 0.7616\n",
            "Epoch 48/50\n",
            "625/625 [==============================] - 2s 4ms/step - loss: 0.3498 - acc: 0.8512 - val_loss: 0.4906 - val_acc: 0.7614\n",
            "Epoch 49/50\n",
            "625/625 [==============================] - 2s 4ms/step - loss: 0.3468 - acc: 0.8524 - val_loss: 0.4911 - val_acc: 0.7616\n",
            "Epoch 50/50\n",
            "625/625 [==============================] - 2s 4ms/step - loss: 0.3440 - acc: 0.8544 - val_loss: 0.4914 - val_acc: 0.7626\n"
          ],
          "name": "stdout"
        }
      ]
    },
    {
      "cell_type": "markdown",
      "metadata": {
        "id": "DZ2qCJz2H8yP",
        "colab_type": "text"
      },
      "source": [
        "Visualize training"
      ]
    },
    {
      "cell_type": "code",
      "metadata": {
        "id": "M1QZRtGHIJ3C",
        "colab_type": "code",
        "outputId": "f96101d8-7acb-465d-887d-a3b0dbd6a11d",
        "colab": {
          "base_uri": "https://localhost:8080/",
          "height": 316
        }
      },
      "source": [
        "import matplotlib.pyplot as plt\n",
        "%matplotlib inline\n",
        "\n",
        "epochs = range(epochs) # 50 is the number of epochs\n",
        "train_acc = history.history['acc']\n",
        "valid_acc = history.history['val_acc']\n",
        "print(train_acc)\n",
        "plt.plot(epochs, train_acc, 'bo', label='Training Accuracy')\n",
        "plt.plot(epochs, valid_acc, 'r', label='Validation Accuracy')\n",
        "plt.xlabel('Epochs')\n",
        "plt.ylabel('Accuracy')\n",
        "plt.legend()\n",
        "plt.show()"
      ],
      "execution_count": 18,
      "outputs": [
        {
          "output_type": "stream",
          "text": [
            "[0.5169500112533569, 0.5601000189781189, 0.6043000221252441, 0.6436499953269958, 0.6744499802589417, 0.6983500123023987, 0.7145500183105469, 0.7251499891281128, 0.7325500249862671, 0.7383999824523926, 0.7441499829292297, 0.7486000061035156, 0.7541999816894531, 0.7588000297546387, 0.7634000182151794, 0.7674999833106995, 0.7727500200271606, 0.7775499820709229, 0.7828999757766724, 0.7872999906539917, 0.7904499769210815, 0.7938500046730042, 0.7971000075340271, 0.7996000051498413, 0.8029000163078308, 0.8058000206947327, 0.808899998664856, 0.8122000098228455, 0.814300000667572, 0.8173999786376953, 0.8194000124931335, 0.8222000002861023, 0.824150025844574, 0.8262500166893005, 0.8282999992370605, 0.8299000263214111, 0.8327000141143799, 0.834850013256073, 0.8360000252723694, 0.8394500017166138, 0.840499997138977, 0.8427000045776367, 0.84375, 0.8452000021934509, 0.847100019454956, 0.8482000231742859, 0.8495500087738037, 0.8512499928474426, 0.852400004863739, 0.8543999791145325]\n"
          ],
          "name": "stdout"
        },
        {
          "output_type": "display_data",
          "data": {
            "image/png": "[encoded data removed]",
            "text/plain": [
              "<Figure size 432x288 with 1 Axes>"
            ]
          },
          "metadata": {
            "tags": []
          }
        }
      ]
    },
    {
      "cell_type": "code",
      "metadata": {
        "id": "9FQBIzw1WPeU",
        "colab_type": "code",
        "colab": {}
      },
      "source": [
        "model.save('dense_imdb_model.h5')"
      ],
      "execution_count": 0,
      "outputs": []
    },
    {
      "cell_type": "markdown",
      "metadata": {
        "id": "U-_5FfjTiO_R",
        "colab_type": "text"
      },
      "source": [
        "Read Test data"
      ]
    },
    {
      "cell_type": "code",
      "metadata": {
        "id": "7LTNxkVz6Eyk",
        "colab_type": "code",
        "colab": {}
      },
      "source": [
        "import os\n",
        "imdb_dir = './aclImdb'\n",
        "test_dir = os.path.join(imdb_dir, 'test')\n",
        "labels_test = []\n",
        "texts_test = []\n",
        "for label_type in ['pos', 'neg']:\n",
        "  dir_name = os.path.join(test_dir, label_type)\n",
        "  for fname in os.listdir(dir_name):\n",
        "    if fname[-4:] == '.txt':\n",
        "      f = open(os.path.join(dir_name, fname))\n",
        "      texts_test.append(f.read())\n",
        "      f.close()\n",
        "      if label_type == 'neg':\n",
        "        labels_test.append(0)\n",
        "      else:\n",
        "        labels_test.append(1)"
      ],
      "execution_count": 0,
      "outputs": []
    },
    {
      "cell_type": "code",
      "metadata": {
        "id": "wKDn1PK0irgH",
        "colab_type": "code",
        "colab": {
          "base_uri": "https://localhost:8080/",
          "height": 51
        },
        "outputId": "ab890483-a528-4c63-fb8f-fc9ddf676c3c"
      },
      "source": [
        "print('Number of training samples: '+str(len(texts_test)))\n",
        "print('Number of training labels: '+str(len(labels_test)))"
      ],
      "execution_count": 21,
      "outputs": [
        {
          "output_type": "stream",
          "text": [
            "Number of training samples: 25000\n",
            "Number of training labels: 25000\n"
          ],
          "name": "stdout"
        }
      ]
    },
    {
      "cell_type": "markdown",
      "metadata": {
        "id": "mUb7GnV2i04V",
        "colab_type": "text"
      },
      "source": [
        "Tokenize the text"
      ]
    },
    {
      "cell_type": "code",
      "metadata": {
        "id": "XDcWSC_ci0Hk",
        "colab_type": "code",
        "colab": {}
      },
      "source": [
        "sequences_test = tokenizer.texts_to_sequences(texts_test)"
      ],
      "execution_count": 0,
      "outputs": []
    },
    {
      "cell_type": "markdown",
      "metadata": {
        "id": "SJ_odwqxjF48",
        "colab_type": "text"
      },
      "source": [
        "Padding"
      ]
    },
    {
      "cell_type": "code",
      "metadata": {
        "id": "BQ_VVj59i850",
        "colab_type": "code",
        "colab": {}
      },
      "source": [
        "x_test = preprocessing.sequence.pad_sequences(sequences_test, maxlen=word_num)"
      ],
      "execution_count": 0,
      "outputs": []
    },
    {
      "cell_type": "markdown",
      "metadata": {
        "id": "Ckfyyto5jM2A",
        "colab_type": "text"
      },
      "source": [
        "Evaluate model"
      ]
    },
    {
      "cell_type": "code",
      "metadata": {
        "id": "-gcm_vvsjGyr",
        "colab_type": "code",
        "colab": {
          "base_uri": "https://localhost:8080/",
          "height": 68
        },
        "outputId": "5d73a2d0-ec22-44bc-9d7a-6d128f354737"
      },
      "source": [
        "loss_and_acc = model.evaluate(x_test, np.array(labels_test))\n",
        "print(\"loss = \",str(loss_and_acc[0]))\n",
        "print(\"acc = \", str(loss_and_acc[1]))"
      ],
      "execution_count": 27,
      "outputs": [
        {
          "output_type": "stream",
          "text": [
            "782/782 [==============================] - 2s 2ms/step - loss: 0.4843 - acc: 0.7640\n",
            "loss =  0.4843427240848541\n",
            "acc =  0.7640399932861328\n"
          ],
          "name": "stdout"
        }
      ]
    },
    {
      "cell_type": "code",
      "metadata": {
        "id": "v9lekmnFjhSr",
        "colab_type": "code",
        "colab": {}
      },
      "source": [
        ""
      ],
      "execution_count": 0,
      "outputs": []
    }
  ]
}