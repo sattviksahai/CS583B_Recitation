{
  "nbformat": 4,
  "nbformat_minor": 0,
  "metadata": {
    "colab": {
      "name": "IMDB_reviews_reference.ipynb",
      "provenance": [],
      "collapsed_sections": [],
      "authorship_tag": "ABX9TyMJVpjR5YM0Gj6kO7GkE2VS",
      "include_colab_link": true
    },
    "kernelspec": {
      "name": "python3",
      "display_name": "Python 3"
    },
    "accelerator": "GPU"
  },
  "cells": [
    {
      "cell_type": "markdown",
      "metadata": {
        "id": "view-in-github",
        "colab_type": "text"
      },
      "source": [
        "<a href=\"https://colab.research.google.com/github/sattviksahai/CS583B_Recitation/blob/master/IMDB_reviews_reference.ipynb\" target=\"_parent\"><img src=\"https://colab.research.google.com/assets/colab-badge.svg\" alt=\"Open In Colab\"/></a>"
      ]
    },
    {
      "cell_type": "markdown",
      "metadata": {
        "id": "ybCbGJxJ67Jm",
        "colab_type": "text"
      },
      "source": [
        "Mount Google Drive"
      ]
    },
    {
      "cell_type": "code",
      "metadata": {
        "id": "N4FYeXSGxyPy",
        "colab_type": "code",
        "outputId": "20179cee-a56c-4558-c3ea-0c594423975a",
        "colab": {
          "base_uri": "https://localhost:8080/",
          "height": 122
        }
      },
      "source": [
        "from google.colab import drive\n",
        "drive.mount('/content/drive')"
      ],
      "execution_count": 1,
      "outputs": [
        {
          "output_type": "stream",
          "text": [
            "Go to this URL in a browser: https://accounts.google.com/o/oauth2/auth?client_id=947318989803-6bn6qk8qdgf4n4g3pfee6491hc0brc4i.apps.googleusercontent.com&redirect_uri=urn%3aietf%3awg%3aoauth%3a2.0%3aoob&response_type=code&scope=email%20https%3a%2f%2fwww.googleapis.com%2fauth%2fdocs.test%20https%3a%2f%2fwww.googleapis.com%2fauth%2fdrive%20https%3a%2f%2fwww.googleapis.com%2fauth%2fdrive.photos.readonly%20https%3a%2f%2fwww.googleapis.com%2fauth%2fpeopleapi.readonly\n",
            "\n",
            "Enter your authorization code:\n",
            "··········\n",
            "Mounted at /content/drive\n"
          ],
          "name": "stdout"
        }
      ]
    },
    {
      "cell_type": "markdown",
      "metadata": {
        "id": "TaTg_hEA7BMr",
        "colab_type": "text"
      },
      "source": [
        "Extract data"
      ]
    },
    {
      "cell_type": "code",
      "metadata": {
        "id": "JClfCvj-x6vp",
        "colab_type": "code",
        "outputId": "c837a51f-d9ab-400c-d713-253dc885326e",
        "colab": {
          "base_uri": "https://localhost:8080/",
          "height": 34
        }
      },
      "source": [
        "!tar -xf 'drive/My Drive/aclImdb_v1.tar.gz'\n",
        "! rm -rf aclImdb/train/unsup/\n",
        "!ls"
      ],
      "execution_count": 2,
      "outputs": [
        {
          "output_type": "stream",
          "text": [
            "aclImdb  drive\tsample_data\n"
          ],
          "name": "stdout"
        }
      ]
    },
    {
      "cell_type": "markdown",
      "metadata": {
        "id": "Cw6K2qoc7D6L",
        "colab_type": "text"
      },
      "source": [
        "Read Training Data"
      ]
    },
    {
      "cell_type": "code",
      "metadata": {
        "id": "BlW9g0YLyZt8",
        "colab_type": "code",
        "colab": {}
      },
      "source": [
        "import os\n",
        "imdb_dir = './aclImdb'\n",
        "train_dir = os.path.join(imdb_dir, 'train')\n",
        "labels_train = []\n",
        "texts_train = []\n",
        "for label_type in ['pos', 'neg']:\n",
        "  dir_name = os.path.join(train_dir, label_type)\n",
        "  for fname in os.listdir(dir_name):\n",
        "    if fname[-4:] == '.txt':\n",
        "      f = open(os.path.join(dir_name, fname))\n",
        "      texts_train.append(f.read())\n",
        "      f.close()\n",
        "      if label_type == 'neg':\n",
        "        labels_train.append(0)\n",
        "      else:\n",
        "        labels_train.append(1)"
      ],
      "execution_count": 0,
      "outputs": []
    },
    {
      "cell_type": "code",
      "metadata": {
        "id": "K1ybpc2sy4vG",
        "colab_type": "code",
        "outputId": "8c64bd17-7582-4208-8924-ce96ee68eb54",
        "colab": {
          "base_uri": "https://localhost:8080/",
          "height": 51
        }
      },
      "source": [
        "print('Number of training samples: '+str(len(texts_train)))\n",
        "print('Number of training labels: '+str(len(labels_train)))"
      ],
      "execution_count": 4,
      "outputs": [
        {
          "output_type": "stream",
          "text": [
            "Number of training samples: 25000\n",
            "Number of training labels: 25000\n"
          ],
          "name": "stdout"
        }
      ]
    },
    {
      "cell_type": "markdown",
      "metadata": {
        "id": "6VuIAwD17MVS",
        "colab_type": "text"
      },
      "source": [
        "Display random review with label"
      ]
    },
    {
      "cell_type": "code",
      "metadata": {
        "id": "WCcBAtm9zGez",
        "colab_type": "code",
        "outputId": "8512e785-5a17-4224-d7c7-18a6c7294dd4",
        "colab": {
          "base_uri": "https://localhost:8080/",
          "height": 88
        }
      },
      "source": [
        "import numpy as np\n",
        "\n",
        "i=np.random.randint(len(labels_train))\n",
        "print('label #'+str(i)+': '+str(labels_train[i]))\n",
        "print('text #'+str(i)+':')\n",
        "print(texts_train[i])"
      ],
      "execution_count": 5,
      "outputs": [
        {
          "output_type": "stream",
          "text": [
            "label #13649: 0\n",
            "text #13649:\n",
            "A retired diplomat, played nicely by Michael York, goes to Russia to get revenge on the Russian gangster that murdered the diplomat's policeman son. There the diplomat meets an exceptionally strong and decent Russian cop who helps him bring the Russian gangster to justice.<br /><br />I remembered the old action flicks of the 1980s that always portray the Russians as evil bad guys out to undermine the righteous U.S. government. It's interesting to see this time the Russian guy as a hero.<br /><br />Not a great flick, it's really typically a \"B\" action flick. Michael York lends some class to this mediocre movie. Alexander Nevsky, who plays the Russian cop is kind of \"blah\" but surprisingly has some chemistry with Michael York. Face it, Michael York is such a good actor that he'd have chemistry with anyone he's doing a scene with. Disappointingly, the handsome Adrian Paul gets killed within the first 15 minutes into the movie. Now, if Adrian Paul was in this movie longer, it would've been an above average \"B\" action flick. All I can say about Adrian Paul is that he is real nice to look at for the first 15 minutes of the movie. The villain, played by Richard Tyson, is your typical bad guy. He's very blonde and very villainous in this movie.<br /><br />Rent this flick if there is nothing else on TV to watch. It's okay. It doesn't suck too bad. The action scenes are decent. The acting could be better, the plot could've moved much faster, but hey, you get to see what Russia looks like today!\n"
          ],
          "name": "stdout"
        }
      ]
    },
    {
      "cell_type": "markdown",
      "metadata": {
        "id": "glcjZ8F67qGe",
        "colab_type": "text"
      },
      "source": [
        "Tokenize the text"
      ]
    },
    {
      "cell_type": "code",
      "metadata": {
        "id": "eMRKRr9oGZAV",
        "colab_type": "code",
        "outputId": "39ad55b6-276c-461a-b587-108409b60717",
        "colab": {
          "base_uri": "https://localhost:8080/",
          "height": 80
        }
      },
      "source": [
        "from keras.preprocessing.text import Tokenizer\n",
        "\n",
        "vocabulary = 10000\n",
        "tokenizer = Tokenizer(num_words=vocabulary)\n",
        "tokenizer.fit_on_texts(texts_train)\n",
        "\n",
        "word_index = tokenizer.word_index\n",
        "sequences_train = tokenizer.texts_to_sequences(texts_train)"
      ],
      "execution_count": 6,
      "outputs": [
        {
          "output_type": "stream",
          "text": [
            "Using TensorFlow backend.\n"
          ],
          "name": "stderr"
        },
        {
          "output_type": "display_data",
          "data": {
            "text/html": [
              "<p style=\"color: red;\">\n",
              "The default version of TensorFlow in Colab will switch to TensorFlow 2.x on the 27th of March, 2020.<br>\n",
              "We recommend you <a href=\"https://www.tensorflow.org/guide/migrate\" target=\"_blank\">upgrade</a> now\n",
              "or ensure your notebook will continue to use TensorFlow 1.x via the <code>%tensorflow_version 1.x</code> magic:\n",
              "<a href=\"https://colab.research.google.com/notebooks/tensorflow_version.ipynb\" target=\"_blank\">more info</a>.</p>\n"
            ],
            "text/plain": [
              "<IPython.core.display.HTML object>"
            ]
          },
          "metadata": {
            "tags": []
          }
        }
      ]
    },
    {
      "cell_type": "markdown",
      "metadata": {
        "id": "eBBp2Z8QHxYm",
        "colab_type": "text"
      },
      "source": [
        "Add Padding"
      ]
    },
    {
      "cell_type": "code",
      "metadata": {
        "id": "Tl07PiXIGmq6",
        "colab_type": "code",
        "colab": {}
      },
      "source": [
        "from keras import preprocessing\n",
        "\n",
        "word_num = 20\n",
        "x_train_val = preprocessing.sequence.pad_sequences(sequences_train, maxlen=word_num)"
      ],
      "execution_count": 0,
      "outputs": []
    },
    {
      "cell_type": "code",
      "metadata": {
        "id": "BaP4aYmxGwME",
        "colab_type": "code",
        "outputId": "c495877a-18e2-422f-8cb7-ab5df5b3f22a",
        "colab": {
          "base_uri": "https://localhost:8080/",
          "height": 34
        }
      },
      "source": [
        "print(x_train_val.shape)"
      ],
      "execution_count": 8,
      "outputs": [
        {
          "output_type": "stream",
          "text": [
            "(25000, 20)\n"
          ],
          "name": "stdout"
        }
      ]
    },
    {
      "cell_type": "markdown",
      "metadata": {
        "id": "JZnvDIn7tRqb",
        "colab_type": "text"
      },
      "source": [
        "Training Validation split"
      ]
    },
    {
      "cell_type": "code",
      "metadata": {
        "id": "r33fJkrwtPq3",
        "colab_type": "code",
        "outputId": "fa778fea-c82b-4068-bd59-cb438333a4bd",
        "colab": {
          "base_uri": "https://localhost:8080/",
          "height": 85
        }
      },
      "source": [
        "split_ratio = 0.8\n",
        "\n",
        "indices = np.arange(x_train_val.shape[0])\n",
        "np.random.shuffle(indices)\n",
        "\n",
        "x_train = x_train_val[indices[:int(len(indices)*split_ratio)]]\n",
        "x_val = x_train_val[indices[int(len(indices)*split_ratio):]]\n",
        "\n",
        "labels_train = np.array(labels_train)\n",
        "y_train = labels_train[indices[:int(len(indices)*split_ratio)]]\n",
        "y_val = labels_train[indices[int(len(indices)*split_ratio):]]\n",
        "print('Shape of training data: ', x_train.shape)\n",
        "print('Shape of training labels: ', y_train.shape)\n",
        "print('Shape of validation data: ', x_val.shape)\n",
        "print('Shape of validation labels: ', y_val.shape)"
      ],
      "execution_count": 9,
      "outputs": [
        {
          "output_type": "stream",
          "text": [
            "Shape of training data:  (20000, 20)\n",
            "Shape of training labels:  (20000,)\n",
            "Shape of validation data:  (5000, 20)\n",
            "Shape of validation labels:  (5000,)\n"
          ],
          "name": "stdout"
        }
      ]
    },
    {
      "cell_type": "markdown",
      "metadata": {
        "id": "4xc9u2UYH1ih",
        "colab_type": "text"
      },
      "source": [
        "Define Model"
      ]
    },
    {
      "cell_type": "code",
      "metadata": {
        "id": "XEacTKEgGz-O",
        "colab_type": "code",
        "outputId": "a862937f-2c8e-4b78-8faf-8c4a375a749d",
        "colab": {
          "base_uri": "https://localhost:8080/",
          "height": 357
        }
      },
      "source": [
        "from keras.models import Sequential\n",
        "from keras.layers import Flatten, Dense, Embedding\n",
        "\n",
        "embedding_dim = 8\n",
        "\n",
        "model = Sequential()\n",
        "model.add(Embedding(vocabulary, embedding_dim, input_length=word_num))\n",
        "model.add(Flatten())\n",
        "model.add(Dense(1, activation='sigmoid'))\n",
        "\n",
        "model.summary()"
      ],
      "execution_count": 10,
      "outputs": [
        {
          "output_type": "stream",
          "text": [
            "WARNING:tensorflow:From /usr/local/lib/python3.6/dist-packages/keras/backend/tensorflow_backend.py:66: The name tf.get_default_graph is deprecated. Please use tf.compat.v1.get_default_graph instead.\n",
            "\n",
            "WARNING:tensorflow:From /usr/local/lib/python3.6/dist-packages/keras/backend/tensorflow_backend.py:541: The name tf.placeholder is deprecated. Please use tf.compat.v1.placeholder instead.\n",
            "\n",
            "WARNING:tensorflow:From /usr/local/lib/python3.6/dist-packages/keras/backend/tensorflow_backend.py:4432: The name tf.random_uniform is deprecated. Please use tf.random.uniform instead.\n",
            "\n",
            "Model: \"sequential_1\"\n",
            "_________________________________________________________________\n",
            "Layer (type)                 Output Shape              Param #   \n",
            "=================================================================\n",
            "embedding_1 (Embedding)      (None, 20, 8)             80000     \n",
            "_________________________________________________________________\n",
            "flatten_1 (Flatten)          (None, 160)               0         \n",
            "_________________________________________________________________\n",
            "dense_1 (Dense)              (None, 1)                 161       \n",
            "=================================================================\n",
            "Total params: 80,161\n",
            "Trainable params: 80,161\n",
            "Non-trainable params: 0\n",
            "_________________________________________________________________\n"
          ],
          "name": "stdout"
        }
      ]
    },
    {
      "cell_type": "markdown",
      "metadata": {
        "id": "j5t53-Q2H338",
        "colab_type": "text"
      },
      "source": [
        "Define Optimizer"
      ]
    },
    {
      "cell_type": "code",
      "metadata": {
        "id": "BuSevdGWHv7u",
        "colab_type": "code",
        "outputId": "ed7adda6-b7df-4175-ae99-1099a7405e76",
        "colab": {
          "base_uri": "https://localhost:8080/",
          "height": 136
        }
      },
      "source": [
        "from keras import optimizers\n",
        "\n",
        "epochs = 50\n",
        "\n",
        "model.compile(optimizer=optimizers.RMSprop(lr=0.0001),\n",
        "            loss='binary_crossentropy', metrics=['acc'])"
      ],
      "execution_count": 11,
      "outputs": [
        {
          "output_type": "stream",
          "text": [
            "WARNING:tensorflow:From /usr/local/lib/python3.6/dist-packages/keras/optimizers.py:793: The name tf.train.Optimizer is deprecated. Please use tf.compat.v1.train.Optimizer instead.\n",
            "\n",
            "WARNING:tensorflow:From /usr/local/lib/python3.6/dist-packages/keras/backend/tensorflow_backend.py:3657: The name tf.log is deprecated. Please use tf.math.log instead.\n",
            "\n",
            "WARNING:tensorflow:From /tensorflow-1.15.0/python3.6/tensorflow_core/python/ops/nn_impl.py:183: where (from tensorflow.python.ops.array_ops) is deprecated and will be removed in a future version.\n",
            "Instructions for updating:\n",
            "Use tf.where in 2.0, which has the same broadcast rule as np.where\n"
          ],
          "name": "stdout"
        }
      ]
    },
    {
      "cell_type": "markdown",
      "metadata": {
        "id": "Ql7sDg7_H62D",
        "colab_type": "text"
      },
      "source": [
        "Train"
      ]
    },
    {
      "cell_type": "code",
      "metadata": {
        "id": "ulfs3Ly4IEqm",
        "colab_type": "code",
        "outputId": "0e8ff3ae-3f2e-4f55-cb22-ecc667f38741",
        "colab": {
          "base_uri": "https://localhost:8080/",
          "height": 1000
        }
      },
      "source": [
        "history = model.fit(x_train, y_train, epochs=epochs,\n",
        "                    batch_size=32, validation_data=(x_val, y_val))"
      ],
      "execution_count": 12,
      "outputs": [
        {
          "output_type": "stream",
          "text": [
            "WARNING:tensorflow:From /usr/local/lib/python3.6/dist-packages/keras/backend/tensorflow_backend.py:1033: The name tf.assign_add is deprecated. Please use tf.compat.v1.assign_add instead.\n",
            "\n",
            "WARNING:tensorflow:From /usr/local/lib/python3.6/dist-packages/keras/backend/tensorflow_backend.py:1020: The name tf.assign is deprecated. Please use tf.compat.v1.assign instead.\n",
            "\n",
            "WARNING:tensorflow:From /usr/local/lib/python3.6/dist-packages/keras/backend/tensorflow_backend.py:3005: The name tf.Session is deprecated. Please use tf.compat.v1.Session instead.\n",
            "\n",
            "Train on 20000 samples, validate on 5000 samples\n",
            "Epoch 1/50\n",
            "WARNING:tensorflow:From /usr/local/lib/python3.6/dist-packages/keras/backend/tensorflow_backend.py:190: The name tf.get_default_session is deprecated. Please use tf.compat.v1.get_default_session instead.\n",
            "\n",
            "WARNING:tensorflow:From /usr/local/lib/python3.6/dist-packages/keras/backend/tensorflow_backend.py:197: The name tf.ConfigProto is deprecated. Please use tf.compat.v1.ConfigProto instead.\n",
            "\n",
            "WARNING:tensorflow:From /usr/local/lib/python3.6/dist-packages/keras/backend/tensorflow_backend.py:207: The name tf.global_variables is deprecated. Please use tf.compat.v1.global_variables instead.\n",
            "\n",
            "WARNING:tensorflow:From /usr/local/lib/python3.6/dist-packages/keras/backend/tensorflow_backend.py:216: The name tf.is_variable_initialized is deprecated. Please use tf.compat.v1.is_variable_initialized instead.\n",
            "\n",
            "WARNING:tensorflow:From /usr/local/lib/python3.6/dist-packages/keras/backend/tensorflow_backend.py:223: The name tf.variables_initializer is deprecated. Please use tf.compat.v1.variables_initializer instead.\n",
            "\n",
            "20000/20000 [==============================] - 10s 512us/step - loss: 0.6930 - acc: 0.5081 - val_loss: 0.6921 - val_acc: 0.5188\n",
            "Epoch 2/50\n",
            "20000/20000 [==============================] - 2s 100us/step - loss: 0.6908 - acc: 0.5489 - val_loss: 0.6907 - val_acc: 0.5454\n",
            "Epoch 3/50\n",
            "20000/20000 [==============================] - 2s 99us/step - loss: 0.6879 - acc: 0.5903 - val_loss: 0.6885 - val_acc: 0.5718\n",
            "Epoch 4/50\n",
            "20000/20000 [==============================] - 2s 99us/step - loss: 0.6838 - acc: 0.6314 - val_loss: 0.6848 - val_acc: 0.6034\n",
            "Epoch 5/50\n",
            "20000/20000 [==============================] - 2s 98us/step - loss: 0.6777 - acc: 0.6704 - val_loss: 0.6791 - val_acc: 0.6340\n",
            "Epoch 6/50\n",
            "20000/20000 [==============================] - 2s 101us/step - loss: 0.6691 - acc: 0.7008 - val_loss: 0.6708 - val_acc: 0.6618\n",
            "Epoch 7/50\n",
            "20000/20000 [==============================] - 2s 97us/step - loss: 0.6576 - acc: 0.7202 - val_loss: 0.6599 - val_acc: 0.6798\n",
            "Epoch 8/50\n",
            "20000/20000 [==============================] - 2s 95us/step - loss: 0.6434 - acc: 0.7316 - val_loss: 0.6468 - val_acc: 0.6944\n",
            "Epoch 9/50\n",
            "20000/20000 [==============================] - 2s 98us/step - loss: 0.6271 - acc: 0.7382 - val_loss: 0.6320 - val_acc: 0.7016\n",
            "Epoch 10/50\n",
            "20000/20000 [==============================] - 2s 98us/step - loss: 0.6095 - acc: 0.7441 - val_loss: 0.6166 - val_acc: 0.7098\n",
            "Epoch 11/50\n",
            "20000/20000 [==============================] - 2s 97us/step - loss: 0.5915 - acc: 0.7475 - val_loss: 0.6013 - val_acc: 0.7146\n",
            "Epoch 12/50\n",
            "20000/20000 [==============================] - 2s 97us/step - loss: 0.5740 - acc: 0.7521 - val_loss: 0.5868 - val_acc: 0.7216\n",
            "Epoch 13/50\n",
            "20000/20000 [==============================] - 2s 99us/step - loss: 0.5573 - acc: 0.7588 - val_loss: 0.5734 - val_acc: 0.7252\n",
            "Epoch 14/50\n",
            "20000/20000 [==============================] - 2s 102us/step - loss: 0.5419 - acc: 0.7632 - val_loss: 0.5613 - val_acc: 0.7278\n",
            "Epoch 15/50\n",
            "20000/20000 [==============================] - 2s 106us/step - loss: 0.5277 - acc: 0.7680 - val_loss: 0.5505 - val_acc: 0.7342\n",
            "Epoch 16/50\n",
            "20000/20000 [==============================] - 2s 104us/step - loss: 0.5148 - acc: 0.7720 - val_loss: 0.5409 - val_acc: 0.7400\n",
            "Epoch 17/50\n",
            "20000/20000 [==============================] - 2s 100us/step - loss: 0.5031 - acc: 0.7776 - val_loss: 0.5326 - val_acc: 0.7430\n",
            "Epoch 18/50\n",
            "20000/20000 [==============================] - 2s 101us/step - loss: 0.4925 - acc: 0.7807 - val_loss: 0.5253 - val_acc: 0.7442\n",
            "Epoch 19/50\n",
            "20000/20000 [==============================] - 2s 100us/step - loss: 0.4828 - acc: 0.7840 - val_loss: 0.5188 - val_acc: 0.7474\n",
            "Epoch 20/50\n",
            "20000/20000 [==============================] - 2s 97us/step - loss: 0.4740 - acc: 0.7867 - val_loss: 0.5132 - val_acc: 0.7516\n",
            "Epoch 21/50\n",
            "20000/20000 [==============================] - 2s 95us/step - loss: 0.4659 - acc: 0.7900 - val_loss: 0.5084 - val_acc: 0.7522\n",
            "Epoch 22/50\n",
            "20000/20000 [==============================] - 2s 97us/step - loss: 0.4585 - acc: 0.7939 - val_loss: 0.5042 - val_acc: 0.7540\n",
            "Epoch 23/50\n",
            "20000/20000 [==============================] - 2s 98us/step - loss: 0.4517 - acc: 0.7957 - val_loss: 0.5006 - val_acc: 0.7564\n",
            "Epoch 24/50\n",
            "20000/20000 [==============================] - 2s 95us/step - loss: 0.4454 - acc: 0.7986 - val_loss: 0.4974 - val_acc: 0.7572\n",
            "Epoch 25/50\n",
            "20000/20000 [==============================] - 2s 97us/step - loss: 0.4394 - acc: 0.8016 - val_loss: 0.4947 - val_acc: 0.7588\n",
            "Epoch 26/50\n",
            "20000/20000 [==============================] - 2s 97us/step - loss: 0.4339 - acc: 0.8044 - val_loss: 0.4922 - val_acc: 0.7596\n",
            "Epoch 27/50\n",
            "20000/20000 [==============================] - 2s 93us/step - loss: 0.4287 - acc: 0.8078 - val_loss: 0.4902 - val_acc: 0.7620\n",
            "Epoch 28/50\n",
            "20000/20000 [==============================] - 2s 96us/step - loss: 0.4238 - acc: 0.8107 - val_loss: 0.4884 - val_acc: 0.7628\n",
            "Epoch 29/50\n",
            "20000/20000 [==============================] - 2s 96us/step - loss: 0.4192 - acc: 0.8133 - val_loss: 0.4870 - val_acc: 0.7650\n",
            "Epoch 30/50\n",
            "20000/20000 [==============================] - 2s 97us/step - loss: 0.4148 - acc: 0.8155 - val_loss: 0.4858 - val_acc: 0.7658\n",
            "Epoch 31/50\n",
            "20000/20000 [==============================] - 2s 99us/step - loss: 0.4107 - acc: 0.8180 - val_loss: 0.4847 - val_acc: 0.7674\n",
            "Epoch 32/50\n",
            "20000/20000 [==============================] - 2s 97us/step - loss: 0.4066 - acc: 0.8206 - val_loss: 0.4840 - val_acc: 0.7676\n",
            "Epoch 33/50\n",
            "20000/20000 [==============================] - 2s 98us/step - loss: 0.4029 - acc: 0.8221 - val_loss: 0.4833 - val_acc: 0.7686\n",
            "Epoch 34/50\n",
            "20000/20000 [==============================] - 2s 95us/step - loss: 0.3992 - acc: 0.8244 - val_loss: 0.4829 - val_acc: 0.7686\n",
            "Epoch 35/50\n",
            "20000/20000 [==============================] - 2s 96us/step - loss: 0.3957 - acc: 0.8262 - val_loss: 0.4824 - val_acc: 0.7680\n",
            "Epoch 36/50\n",
            "20000/20000 [==============================] - 2s 95us/step - loss: 0.3923 - acc: 0.8278 - val_loss: 0.4821 - val_acc: 0.7686\n",
            "Epoch 37/50\n",
            "20000/20000 [==============================] - 2s 95us/step - loss: 0.3890 - acc: 0.8294 - val_loss: 0.4821 - val_acc: 0.7672\n",
            "Epoch 38/50\n",
            "20000/20000 [==============================] - 2s 97us/step - loss: 0.3858 - acc: 0.8311 - val_loss: 0.4819 - val_acc: 0.7672\n",
            "Epoch 39/50\n",
            "20000/20000 [==============================] - 2s 95us/step - loss: 0.3828 - acc: 0.8325 - val_loss: 0.4819 - val_acc: 0.7694\n",
            "Epoch 40/50\n",
            "20000/20000 [==============================] - 2s 97us/step - loss: 0.3797 - acc: 0.8341 - val_loss: 0.4821 - val_acc: 0.7710\n",
            "Epoch 41/50\n",
            "20000/20000 [==============================] - 2s 98us/step - loss: 0.3768 - acc: 0.8351 - val_loss: 0.4823 - val_acc: 0.7710\n",
            "Epoch 42/50\n",
            "20000/20000 [==============================] - 2s 95us/step - loss: 0.3739 - acc: 0.8366 - val_loss: 0.4824 - val_acc: 0.7718\n",
            "Epoch 43/50\n",
            "20000/20000 [==============================] - 2s 101us/step - loss: 0.3711 - acc: 0.8373 - val_loss: 0.4826 - val_acc: 0.7728\n",
            "Epoch 44/50\n",
            "20000/20000 [==============================] - 2s 100us/step - loss: 0.3683 - acc: 0.8394 - val_loss: 0.4830 - val_acc: 0.7732\n",
            "Epoch 45/50\n",
            "20000/20000 [==============================] - 2s 102us/step - loss: 0.3655 - acc: 0.8406 - val_loss: 0.4834 - val_acc: 0.7730\n",
            "Epoch 46/50\n",
            "20000/20000 [==============================] - 2s 97us/step - loss: 0.3629 - acc: 0.8419 - val_loss: 0.4838 - val_acc: 0.7724\n",
            "Epoch 47/50\n",
            "20000/20000 [==============================] - 2s 95us/step - loss: 0.3603 - acc: 0.8438 - val_loss: 0.4844 - val_acc: 0.7730\n",
            "Epoch 48/50\n",
            "20000/20000 [==============================] - 2s 95us/step - loss: 0.3577 - acc: 0.8446 - val_loss: 0.4848 - val_acc: 0.7730\n",
            "Epoch 49/50\n",
            "20000/20000 [==============================] - 2s 96us/step - loss: 0.3551 - acc: 0.8469 - val_loss: 0.4854 - val_acc: 0.7724\n",
            "Epoch 50/50\n",
            "20000/20000 [==============================] - 2s 94us/step - loss: 0.3526 - acc: 0.8474 - val_loss: 0.4859 - val_acc: 0.7732\n"
          ],
          "name": "stdout"
        }
      ]
    },
    {
      "cell_type": "markdown",
      "metadata": {
        "id": "DZ2qCJz2H8yP",
        "colab_type": "text"
      },
      "source": [
        "Visualize training"
      ]
    },
    {
      "cell_type": "code",
      "metadata": {
        "id": "M1QZRtGHIJ3C",
        "colab_type": "code",
        "outputId": "4849b537-07dd-4ad6-8280-4cd0ffc9b6f0",
        "colab": {
          "base_uri": "https://localhost:8080/",
          "height": 316
        }
      },
      "source": [
        "import matplotlib.pyplot as plt\n",
        "%matplotlib inline\n",
        "\n",
        "epochs = range(epochs) # 50 is the number of epochs\n",
        "train_acc = history.history['acc']\n",
        "valid_acc = history.history['val_acc']\n",
        "print(train_acc)\n",
        "plt.plot(epochs, train_acc, 'bo', label='Training Accuracy')\n",
        "plt.plot(epochs, valid_acc, 'r', label='Validation Accuracy')\n",
        "plt.xlabel('Epochs')\n",
        "plt.ylabel('Accuracy')\n",
        "plt.legend()\n",
        "plt.show()"
      ],
      "execution_count": 13,
      "outputs": [
        {
          "output_type": "stream",
          "text": [
            "[0.5081, 0.54885, 0.5903, 0.63145, 0.67045, 0.70085, 0.7202, 0.7316, 0.7382, 0.7441, 0.74755, 0.7521, 0.75875, 0.7632, 0.76795, 0.772, 0.77765, 0.7807, 0.78395, 0.7867, 0.79, 0.7939, 0.79565, 0.79865, 0.80165, 0.80445, 0.80785, 0.81075, 0.8133, 0.8155, 0.818, 0.82065, 0.8221, 0.8244, 0.82625, 0.82785, 0.8294, 0.8311, 0.83255, 0.83405, 0.8351, 0.8366, 0.8373, 0.8394, 0.8406, 0.84195, 0.8438, 0.84455, 0.8469, 0.84735]\n"
          ],
          "name": "stdout"
        },
        {
          "output_type": "display_data",
          "data": {
            "image/png": "[encoded data removed]",
            "text/plain": [
              "<Figure size 432x288 with 1 Axes>"
            ]
          },
          "metadata": {
            "tags": []
          }
        }
      ]
    },
    {
      "cell_type": "code",
      "metadata": {
        "id": "9FQBIzw1WPeU",
        "colab_type": "code",
        "colab": {}
      },
      "source": [
        "model.save('dense_imdb_model.h5')"
      ],
      "execution_count": 0,
      "outputs": []
    },
    {
      "cell_type": "code",
      "metadata": {
        "id": "7LTNxkVz6Eyk",
        "colab_type": "code",
        "colab": {}
      },
      "source": [
        ""
      ],
      "execution_count": 0,
      "outputs": []
    }
  ]
}