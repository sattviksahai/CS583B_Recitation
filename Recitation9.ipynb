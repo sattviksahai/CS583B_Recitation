{
  "nbformat": 4,
  "nbformat_minor": 0,
  "metadata": {
    "colab": {
      "name": "Recitation9.ipynb",
      "provenance": [],
      "collapsed_sections": [],
      "toc_visible": true,
      "authorship_tag": "ABX9TyMOsAYwkT6HW7YUk20eStZm",
      "include_colab_link": true
    },
    "kernelspec": {
      "name": "python3",
      "display_name": "Python 3"
    },
    "widgets": {
      "application/vnd.jupyter.widget-state+json": {
        "af2c40e3a2d44d849a57e94131628c0d": {
          "model_module": "@jupyter-widgets/controls",
          "model_name": "HBoxModel",
          "state": {
            "_view_name": "HBoxView",
            "_dom_classes": [],
            "_model_name": "HBoxModel",
            "_view_module": "@jupyter-widgets/controls",
            "_model_module_version": "1.5.0",
            "_view_count": null,
            "_view_module_version": "1.5.0",
            "box_style": "",
            "layout": "IPY_MODEL_e711864837bc4b8eaed404da178c2685",
            "_model_module": "@jupyter-widgets/controls",
            "children": [
              "IPY_MODEL_b36bc807b0644b419aa97d3b669ebe2f",
              "IPY_MODEL_e7d6757e004b46acbbfd1e6fd35ecd5b"
            ]
          }
        },
        "e711864837bc4b8eaed404da178c2685": {
          "model_module": "@jupyter-widgets/base",
          "model_name": "LayoutModel",
          "state": {
            "_view_name": "LayoutView",
            "grid_template_rows": null,
            "right": null,
            "justify_content": null,
            "_view_module": "@jupyter-widgets/base",
            "overflow": null,
            "_model_module_version": "1.2.0",
            "_view_count": null,
            "flex_flow": null,
            "width": null,
            "min_width": null,
            "border": null,
            "align_items": null,
            "bottom": null,
            "_model_module": "@jupyter-widgets/base",
            "top": null,
            "grid_column": null,
            "overflow_y": null,
            "overflow_x": null,
            "grid_auto_flow": null,
            "grid_area": null,
            "grid_template_columns": null,
            "flex": null,
            "_model_name": "LayoutModel",
            "justify_items": null,
            "grid_row": null,
            "max_height": null,
            "align_content": null,
            "visibility": null,
            "align_self": null,
            "height": null,
            "min_height": null,
            "padding": null,
            "grid_auto_rows": null,
            "grid_gap": null,
            "max_width": null,
            "order": null,
            "_view_module_version": "1.2.0",
            "grid_template_areas": null,
            "object_position": null,
            "object_fit": null,
            "grid_auto_columns": null,
            "margin": null,
            "display": null,
            "left": null
          }
        },
        "b36bc807b0644b419aa97d3b669ebe2f": {
          "model_module": "@jupyter-widgets/controls",
          "model_name": "FloatProgressModel",
          "state": {
            "_view_name": "ProgressView",
            "style": "IPY_MODEL_1fcd805299014892a4230ed928b3accc",
            "_dom_classes": [],
            "description": "100%",
            "_model_name": "FloatProgressModel",
            "bar_style": "success",
            "max": 35625,
            "_view_module": "@jupyter-widgets/controls",
            "_model_module_version": "1.5.0",
            "value": 35625,
            "_view_count": null,
            "_view_module_version": "1.5.0",
            "orientation": "horizontal",
            "min": 0,
            "description_tooltip": null,
            "_model_module": "@jupyter-widgets/controls",
            "layout": "IPY_MODEL_27dc4877e91c453db11a19cf9df2fc34"
          }
        },
        "e7d6757e004b46acbbfd1e6fd35ecd5b": {
          "model_module": "@jupyter-widgets/controls",
          "model_name": "HTMLModel",
          "state": {
            "_view_name": "HTMLView",
            "style": "IPY_MODEL_021b58c9143549e0871534b0e66d7dd9",
            "_dom_classes": [],
            "description": "",
            "_model_name": "HTMLModel",
            "placeholder": "​",
            "_view_module": "@jupyter-widgets/controls",
            "_model_module_version": "1.5.0",
            "value": " 35625/35625 [04:21&lt;00:00, 136.18it/s]",
            "_view_count": null,
            "_view_module_version": "1.5.0",
            "description_tooltip": null,
            "_model_module": "@jupyter-widgets/controls",
            "layout": "IPY_MODEL_ddb1d5c92d8c4ec5b76232a52bb89f81"
          }
        },
        "1fcd805299014892a4230ed928b3accc": {
          "model_module": "@jupyter-widgets/controls",
          "model_name": "ProgressStyleModel",
          "state": {
            "_view_name": "StyleView",
            "_model_name": "ProgressStyleModel",
            "description_width": "initial",
            "_view_module": "@jupyter-widgets/base",
            "_model_module_version": "1.5.0",
            "_view_count": null,
            "_view_module_version": "1.2.0",
            "bar_color": null,
            "_model_module": "@jupyter-widgets/controls"
          }
        },
        "27dc4877e91c453db11a19cf9df2fc34": {
          "model_module": "@jupyter-widgets/base",
          "model_name": "LayoutModel",
          "state": {
            "_view_name": "LayoutView",
            "grid_template_rows": null,
            "right": null,
            "justify_content": null,
            "_view_module": "@jupyter-widgets/base",
            "overflow": null,
            "_model_module_version": "1.2.0",
            "_view_count": null,
            "flex_flow": null,
            "width": null,
            "min_width": null,
            "border": null,
            "align_items": null,
            "bottom": null,
            "_model_module": "@jupyter-widgets/base",
            "top": null,
            "grid_column": null,
            "overflow_y": null,
            "overflow_x": null,
            "grid_auto_flow": null,
            "grid_area": null,
            "grid_template_columns": null,
            "flex": null,
            "_model_name": "LayoutModel",
            "justify_items": null,
            "grid_row": null,
            "max_height": null,
            "align_content": null,
            "visibility": null,
            "align_self": null,
            "height": null,
            "min_height": null,
            "padding": null,
            "grid_auto_rows": null,
            "grid_gap": null,
            "max_width": null,
            "order": null,
            "_view_module_version": "1.2.0",
            "grid_template_areas": null,
            "object_position": null,
            "object_fit": null,
            "grid_auto_columns": null,
            "margin": null,
            "display": null,
            "left": null
          }
        },
        "021b58c9143549e0871534b0e66d7dd9": {
          "model_module": "@jupyter-widgets/controls",
          "model_name": "DescriptionStyleModel",
          "state": {
            "_view_name": "StyleView",
            "_model_name": "DescriptionStyleModel",
            "description_width": "",
            "_view_module": "@jupyter-widgets/base",
            "_model_module_version": "1.5.0",
            "_view_count": null,
            "_view_module_version": "1.2.0",
            "_model_module": "@jupyter-widgets/controls"
          }
        },
        "ddb1d5c92d8c4ec5b76232a52bb89f81": {
          "model_module": "@jupyter-widgets/base",
          "model_name": "LayoutModel",
          "state": {
            "_view_name": "LayoutView",
            "grid_template_rows": null,
            "right": null,
            "justify_content": null,
            "_view_module": "@jupyter-widgets/base",
            "overflow": null,
            "_model_module_version": "1.2.0",
            "_view_count": null,
            "flex_flow": null,
            "width": null,
            "min_width": null,
            "border": null,
            "align_items": null,
            "bottom": null,
            "_model_module": "@jupyter-widgets/base",
            "top": null,
            "grid_column": null,
            "overflow_y": null,
            "overflow_x": null,
            "grid_auto_flow": null,
            "grid_area": null,
            "grid_template_columns": null,
            "flex": null,
            "_model_name": "LayoutModel",
            "justify_items": null,
            "grid_row": null,
            "max_height": null,
            "align_content": null,
            "visibility": null,
            "align_self": null,
            "height": null,
            "min_height": null,
            "padding": null,
            "grid_auto_rows": null,
            "grid_gap": null,
            "max_width": null,
            "order": null,
            "_view_module_version": "1.2.0",
            "grid_template_areas": null,
            "object_position": null,
            "object_fit": null,
            "grid_auto_columns": null,
            "margin": null,
            "display": null,
            "left": null
          }
        }
      }
    }
  },
  "cells": [
    {
      "cell_type": "markdown",
      "metadata": {
        "id": "view-in-github",
        "colab_type": "text"
      },
      "source": [
        "<a href=\"https://colab.research.google.com/github/sattviksahai/CS583B_Recitation/blob/master/Recitation9.ipynb\" target=\"_parent\"><img src=\"https://colab.research.google.com/assets/colab-badge.svg\" alt=\"Open In Colab\"/></a>"
      ]
    },
    {
      "cell_type": "markdown",
      "metadata": {
        "id": "P00GMUJLxAEB"
      },
      "source": [
        "## Read data ##"
      ]
    },
    {
      "cell_type": "code",
      "metadata": {
        "id": "NdV3yLq58FTa"
      },
      "source": [
        "with open('corpus.txt') as f:\n",
        "  content = f.read().replace('\\n', \" \").split(\".\")"
      ],
      "execution_count": 6,
      "outputs": []
    },
    {
      "cell_type": "markdown",
      "metadata": {
        "id": "jro3JIHCy2sL"
      },
      "source": [
        "## Remove Punctuations ##"
      ]
    },
    {
      "cell_type": "code",
      "metadata": {
        "id": "Anbejz3Q8sP0"
      },
      "source": [
        "import re\n",
        "\n",
        "clean_lines=[]\n",
        "for line in content:\n",
        "  clean_lines.append(re.sub(\"[\\.\\;\\’\\“\\”\\\\n\\—\\,\\‐\\?\\!\\:\\‘\\(\\)\\_\\--]\", \" \", line))"
      ],
      "execution_count": 10,
      "outputs": []
    },
    {
      "cell_type": "markdown",
      "metadata": {
        "id": "b8IN4T1xzLJq"
      },
      "source": [
        "## Tokenize ##"
      ]
    },
    {
      "cell_type": "code",
      "metadata": {
        "id": "67qMklvO9M1o"
      },
      "source": [
        "train_tokens=[]\n",
        "for line in clean_lines:\n",
        "  tokens = \"<s> {} <\\s>\".format(line).split(\" \")\n",
        "  train_tokens.append([token for token in tokens if token != ''])"
      ],
      "execution_count": 16,
      "outputs": []
    },
    {
      "cell_type": "markdown",
      "metadata": {
        "id": "I-PLh52V0H25"
      },
      "source": [
        "## Create Vocabulary ##"
      ]
    },
    {
      "cell_type": "code",
      "metadata": {
        "id": "JjK-rGmr-Cgu"
      },
      "source": [
        "vocabulary = {}\n",
        "ind = 0\n",
        "for line in train_tokens:\n",
        "  for word in line:\n",
        "    if word not in vocabulary:\n",
        "      vocabulary[word] = ind\n",
        "      ind += 1"
      ],
      "execution_count": 19,
      "outputs": []
    },
    {
      "cell_type": "code",
      "metadata": {
        "id": "FpCFsaws-e9U",
        "outputId": "78d87ded-68e4-4979-a1fe-c008365ac7e4",
        "colab": {
          "base_uri": "https://localhost:8080/"
        }
      },
      "source": [
        "len(vocabulary)"
      ],
      "execution_count": 22,
      "outputs": [
        {
          "output_type": "execute_result",
          "data": {
            "text/plain": [
              "18447"
            ]
          },
          "metadata": {
            "tags": []
          },
          "execution_count": 22
        }
      ]
    },
    {
      "cell_type": "markdown",
      "metadata": {
        "id": "xdQS4_po1BKg"
      },
      "source": [
        "## Get bigram counts ##"
      ]
    },
    {
      "cell_type": "code",
      "metadata": {
        "id": "Cf5gd5l3-qBh",
        "outputId": "5612a6d3-1997-4bb9-87ab-a5684c405abc",
        "colab": {
          "base_uri": "https://localhost:8080/",
          "height": 66,
          "referenced_widgets": [
            "af2c40e3a2d44d849a57e94131628c0d",
            "e711864837bc4b8eaed404da178c2685",
            "b36bc807b0644b419aa97d3b669ebe2f",
            "e7d6757e004b46acbbfd1e6fd35ecd5b",
            "1fcd805299014892a4230ed928b3accc",
            "27dc4877e91c453db11a19cf9df2fc34",
            "021b58c9143549e0871534b0e66d7dd9",
            "ddb1d5c92d8c4ec5b76232a52bb89f81"
          ]
        }
      },
      "source": [
        "import numpy as np\n",
        "from tqdm.notebook import tqdm\n",
        "\n",
        "bigrams = np.zeros((len(vocabulary), len(vocabulary)))\n",
        "unigrams = np.zeros((1, len(vocabulary)))\n",
        "for line in tqdm(train_tokens):\n",
        "  for i in range(len(line)-1):\n",
        "    prev_word = vocabulary[line[i]]\n",
        "    current_word = vocabulary[line[i+1]]\n",
        "    bigrams[prev_word, current_word] += 1\n",
        "    unigrams[0, prev_word] += 1\n",
        "  unigrams[0, current_word] += 1\n",
        "bigrams = bigrams/unigrams"
      ],
      "execution_count": 26,
      "outputs": [
        {
          "output_type": "display_data",
          "data": {
            "application/vnd.jupyter.widget-view+json": {
              "model_id": "af2c40e3a2d44d849a57e94131628c0d",
              "version_minor": 0,
              "version_major": 2
            },
            "text/plain": [
              "HBox(children=(FloatProgress(value=0.0, max=35625.0), HTML(value='')))"
            ]
          },
          "metadata": {
            "tags": []
          }
        },
        {
          "output_type": "stream",
          "text": [
            "\n"
          ],
          "name": "stdout"
        }
      ]
    },
    {
      "cell_type": "code",
      "metadata": {
        "id": "KmowxvTYARmh",
        "outputId": "a43be503-9be3-4a8f-992e-47aaaaae369d",
        "colab": {
          "base_uri": "https://localhost:8080/"
        }
      },
      "source": [
        "bigrams"
      ],
      "execution_count": 27,
      "outputs": [
        {
          "output_type": "execute_result",
          "data": {
            "text/plain": [
              "array([[0.        , 1.        , 0.78823529, ..., 0.        , 0.        ,\n",
              "        0.        ],\n",
              "       [0.        , 0.        , 0.01176471, ..., 0.        , 0.        ,\n",
              "        0.        ],\n",
              "       [0.        , 0.        , 0.        , ..., 0.        , 0.        ,\n",
              "        0.        ],\n",
              "       ...,\n",
              "       [0.        , 0.        , 0.        , ..., 0.        , 0.        ,\n",
              "        0.        ],\n",
              "       [0.        , 0.        , 0.        , ..., 0.        , 0.        ,\n",
              "        0.        ],\n",
              "       [0.        , 0.        , 0.        , ..., 0.        , 0.        ,\n",
              "        0.        ]])"
            ]
          },
          "metadata": {
            "tags": []
          },
          "execution_count": 27
        }
      ]
    },
    {
      "cell_type": "markdown",
      "metadata": {
        "id": "nKNfNpqu3E1n"
      },
      "source": [
        "## Generate Sentences ##\n",
        "\n",
        "Step 1: Randomly sample a starting word from vocabulary\n",
        "\n",
        "Step 2: Sample next word based on the distribution of $P(w_i|w_{i-1})$\n",
        "\n",
        "Step 3: Continue sampling until a stop token is predicted."
      ]
    },
    {
      "cell_type": "code",
      "metadata": {
        "id": "1jkcwXoe3821"
      },
      "source": [
        "def generate_sentence(first_word):\n",
        "  keys = list(vocabulary.keys())\n",
        "  query = first_word\n",
        "  sentence=[]\n",
        "  sentence.append(first_word)\n",
        "  for i in range(50):\n",
        "    distribution = bigrams[vocabulary[query],:]\n",
        "    # print(distribution)\n",
        "    predicted_word = keys[np.random.choice(np.arange(0, len(distribution)), p=distribution/np.sum(distribution))]\n",
        "    # print(predicted_word)\n",
        "    query = predicted_word\n",
        "    sentence.append(predicted_word)\n",
        "    if predicted_word == \"<\\s>\":\n",
        "      break\n",
        "  return \" \".join(sentence)"
      ],
      "execution_count": 41,
      "outputs": []
    },
    {
      "cell_type": "code",
      "metadata": {
        "id": "eBDGDTseBb5G",
        "outputId": "efcd445a-70de-42d1-fee9-a43dd6c9143e",
        "colab": {
          "base_uri": "https://localhost:8080/",
          "height": 52
        }
      },
      "source": [
        "import random\n",
        "\n",
        "first_word = random.choice(list(vocabulary.keys()))\n",
        "# print(first_word)\n",
        "generate_sentence(first_word)"
      ],
      "execution_count": 45,
      "outputs": [
        {
          "output_type": "execute_result",
          "data": {
            "application/vnd.google.colaboratory.intrinsic+json": {
              "type": "string"
            },
            "text/plain": [
              "'fairy land for\" Mrs Clay\\'s freckles were incessantly challenging his loins only warded off pleasantly handled in protecting her start forth bitter philippic \"Miss Price plaintively \"it confesses no harsher name \\'Lydia Wickham \"his observations seemingly unhandsome <\\\\s>'"
            ]
          },
          "metadata": {
            "tags": []
          },
          "execution_count": 45
        }
      ]
    },
    {
      "cell_type": "code",
      "metadata": {
        "id": "bbg5NmvUBuWV"
      },
      "source": [
        ""
      ],
      "execution_count": null,
      "outputs": []
    }
  ]
}