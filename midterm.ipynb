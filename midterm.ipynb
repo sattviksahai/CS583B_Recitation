{
  "nbformat": 4,
  "nbformat_minor": 0,
  "metadata": {
    "colab": {
      "name": "midterm.ipynb",
      "provenance": [],
      "collapsed_sections": [],
      "authorship_tag": "ABX9TyMSNPRrJ9CnomLJ3ETfgXSV",
      "include_colab_link": true
    },
    "kernelspec": {
      "name": "python3",
      "display_name": "Python 3"
    }
  },
  "cells": [
    {
      "cell_type": "markdown",
      "metadata": {
        "id": "view-in-github",
        "colab_type": "text"
      },
      "source": [
        "<a href=\"https://colab.research.google.com/github/sattviksahai/CS583B_Recitation/blob/master/midterm.ipynb\" target=\"_parent\"><img src=\"https://colab.research.google.com/assets/colab-badge.svg\" alt=\"Open In Colab\"/></a>"
      ]
    },
    {
      "cell_type": "code",
      "metadata": {
        "id": "ka-FoA96V2AX",
        "colab_type": "code",
        "colab": {}
      },
      "source": [
        "import tensorflow.keras\n",
        "from tensorflow.keras.models import Model, Sequential\n",
        "from tensorflow.keras.layers import Conv2D, Dense\n",
        "import numpy as np\n"
      ],
      "execution_count": 0,
      "outputs": []
    },
    {
      "cell_type": "code",
      "metadata": {
        "id": "kVEBPb5oV32R",
        "colab_type": "code",
        "outputId": "26ac801d-2dde-481f-a816-1c85194db163",
        "colab": {
          "base_uri": "https://localhost:8080/",
          "height": 34
        }
      },
      "source": [
        "input_map = np.random.rand(20,20,6)\n",
        "print(input_map.shape)"
      ],
      "execution_count": 2,
      "outputs": [
        {
          "output_type": "stream",
          "text": [
            "(20, 20, 6)\n"
          ],
          "name": "stdout"
        }
      ]
    },
    {
      "cell_type": "code",
      "metadata": {
        "id": "WQ2R1TitWIuN",
        "colab_type": "code",
        "outputId": "2f95a2e4-0940-4956-a760-38d4969ce5e4",
        "colab": {
          "base_uri": "https://localhost:8080/",
          "height": 187
        }
      },
      "source": [
        "\n",
        "model = Sequential()\n",
        "model.add(Conv2D(8, (5,5), strides=(2,2), padding='same', activation='relu', input_shape=(20,20,6)))\n",
        "\n",
        "model.summary()"
      ],
      "execution_count": 21,
      "outputs": [
        {
          "output_type": "stream",
          "text": [
            "Model: \"sequential_18\"\n",
            "_________________________________________________________________\n",
            "Layer (type)                 Output Shape              Param #   \n",
            "=================================================================\n",
            "conv2d_18 (Conv2D)           (None, 10, 10, 8)         1208      \n",
            "=================================================================\n",
            "Total params: 1,208\n",
            "Trainable params: 1,208\n",
            "Non-trainable params: 0\n",
            "_________________________________________________________________\n"
          ],
          "name": "stdout"
        }
      ]
    },
    {
      "cell_type": "code",
      "metadata": {
        "id": "SEU521A6WyXu",
        "colab_type": "code",
        "outputId": "c549331d-11f9-44d6-d4c3-ccfd1bd74ceb",
        "colab": {
          "base_uri": "https://localhost:8080/",
          "height": 187
        }
      },
      "source": [
        "# dense\n",
        "model2 = Sequential()\n",
        "model2.add(Dense(10*10*8, activation='relu', input_shape=(20*20*6,)))\n",
        "\n",
        "model2.summary()"
      ],
      "execution_count": 0,
      "outputs": [
        {
          "output_type": "stream",
          "text": [
            "Model: \"sequential_1\"\n",
            "_________________________________________________________________\n",
            "Layer (type)                 Output Shape              Param #   \n",
            "=================================================================\n",
            "dense (Dense)                (None, 800)               1920800   \n",
            "=================================================================\n",
            "Total params: 1,920,800\n",
            "Trainable params: 1,920,800\n",
            "Non-trainable params: 0\n",
            "_________________________________________________________________\n"
          ],
          "name": "stdout"
        }
      ]
    },
    {
      "cell_type": "code",
      "metadata": {
        "id": "2DKDo3h7XXbn",
        "colab_type": "code",
        "outputId": "1b87ccd9-5830-4c7e-f2eb-569e032f9d89",
        "colab": {
          "base_uri": "https://localhost:8080/",
          "height": 34
        }
      },
      "source": [
        "print(20*20*6*10*10*8)"
      ],
      "execution_count": 0,
      "outputs": [
        {
          "output_type": "stream",
          "text": [
            "1920000\n"
          ],
          "name": "stdout"
        }
      ]
    },
    {
      "cell_type": "code",
      "metadata": {
        "id": "UVjG3_85YqwC",
        "colab_type": "code",
        "outputId": "0bbe1d54-d169-4d00-f4a3-cce8e9cd32b2",
        "colab": {
          "base_uri": "https://localhost:8080/",
          "height": 34
        }
      },
      "source": [
        "print(5*5*6*8)"
      ],
      "execution_count": 0,
      "outputs": [
        {
          "output_type": "stream",
          "text": [
            "1200\n"
          ],
          "name": "stdout"
        }
      ]
    },
    {
      "cell_type": "code",
      "metadata": {
        "id": "unSbOSsfYtxh",
        "colab_type": "code",
        "colab": {}
      },
      "source": [
        "import torch"
      ],
      "execution_count": 0,
      "outputs": []
    },
    {
      "cell_type": "code",
      "metadata": {
        "id": "Duzl696tfpaL",
        "colab_type": "code",
        "outputId": "9f8a04f7-2aee-4b3d-b7f6-67e6db6e51f8",
        "colab": {
          "base_uri": "https://localhost:8080/",
          "height": 51
        }
      },
      "source": [
        "x = torch.tensor([[1,2]], dtype=torch.float)\n",
        "print(x)\n",
        "print(x.shape)"
      ],
      "execution_count": 0,
      "outputs": [
        {
          "output_type": "stream",
          "text": [
            "tensor([[1., 2.]])\n",
            "torch.Size([1, 2])\n"
          ],
          "name": "stdout"
        }
      ]
    },
    {
      "cell_type": "code",
      "metadata": {
        "id": "CnK1oopQfuNc",
        "colab_type": "code",
        "outputId": "2e4edee6-80c0-405e-81af-3cecf24f5d36",
        "colab": {
          "base_uri": "https://localhost:8080/",
          "height": 68
        }
      },
      "source": [
        "w1 = torch.tensor([[2,1, 1],[1,-2, 2]], dtype=torch.float)\n",
        "w1.requires_grad_(True)\n",
        "print(w1)\n",
        "print(w1.shape)"
      ],
      "execution_count": 0,
      "outputs": [
        {
          "output_type": "stream",
          "text": [
            "tensor([[ 2.,  1.,  1.],\n",
            "        [ 1., -2.,  2.]], requires_grad=True)\n",
            "torch.Size([2, 3])\n"
          ],
          "name": "stdout"
        }
      ]
    },
    {
      "cell_type": "code",
      "metadata": {
        "id": "MBeU_H1rf7wL",
        "colab_type": "code",
        "outputId": "2ee554b6-15d9-4d07-f4f8-3ae52e75a430",
        "colab": {
          "base_uri": "https://localhost:8080/",
          "height": 85
        }
      },
      "source": [
        "w2 = torch.tensor([[-1],[3],[2]], dtype=torch.float)\n",
        "w2.requires_grad_(True)\n",
        "print(w2)\n",
        "print(w2.shape)"
      ],
      "execution_count": 0,
      "outputs": [
        {
          "output_type": "stream",
          "text": [
            "tensor([[-1.],\n",
            "        [ 3.],\n",
            "        [ 2.]], requires_grad=True)\n",
            "torch.Size([3, 1])\n"
          ],
          "name": "stdout"
        }
      ]
    },
    {
      "cell_type": "code",
      "metadata": {
        "id": "PVLVVyZrgbWG",
        "colab_type": "code",
        "outputId": "e511817d-e11e-41af-d778-898b939981a2",
        "colab": {
          "base_uri": "https://localhost:8080/",
          "height": 85
        }
      },
      "source": [
        "#fp\n",
        "z = torch.mm(x,w1)\n",
        "print(z)\n",
        "z_ = torch.nn.functional.relu(z)\n",
        "print(z_)\n",
        "y_ = torch.mm(z_,w2)\n",
        "print(y_)\n",
        "# loss\n",
        "l = torch.pow(torch.sub(y_,0), 2)\n",
        "print(l)\n",
        "# back\n",
        "l.backward()\n"
      ],
      "execution_count": 0,
      "outputs": [
        {
          "output_type": "stream",
          "text": [
            "tensor([[ 4., -3.,  5.]], grad_fn=<MmBackward>)\n",
            "tensor([[4., 0., 5.]], grad_fn=<ReluBackward0>)\n",
            "tensor([[6.]], grad_fn=<MmBackward>)\n",
            "tensor([[36.]], grad_fn=<PowBackward0>)\n"
          ],
          "name": "stdout"
        }
      ]
    },
    {
      "cell_type": "code",
      "metadata": {
        "id": "Yw__7FGkgsa0",
        "colab_type": "code",
        "outputId": "93489335-4be1-4a03-96a6-73c933e17937",
        "colab": {
          "base_uri": "https://localhost:8080/",
          "height": 102
        }
      },
      "source": [
        "# print\n",
        "print(w1.grad.data)\n",
        "print(w2.grad.data)"
      ],
      "execution_count": 0,
      "outputs": [
        {
          "output_type": "stream",
          "text": [
            "tensor([[-12.,   0.,  24.],\n",
            "        [-24.,   0.,  48.]])\n",
            "tensor([[48.],\n",
            "        [ 0.],\n",
            "        [60.]])\n"
          ],
          "name": "stdout"
        }
      ]
    },
    {
      "cell_type": "code",
      "metadata": {
        "id": "VJDXLs_gitnZ",
        "colab_type": "code",
        "colab": {}
      },
      "source": [
        "alpha = 0.1\n",
        "w1_new = w1 - (alpha*w1.grad.data)\n",
        "w2_new = w2 - (alpha*w2.grad.data)"
      ],
      "execution_count": 0,
      "outputs": []
    },
    {
      "cell_type": "code",
      "metadata": {
        "id": "3K6GMb_6i8Ms",
        "colab_type": "code",
        "outputId": "4ba21301-5fd5-4ea4-d6ea-83efe5bb6570",
        "colab": {
          "base_uri": "https://localhost:8080/",
          "height": 102
        }
      },
      "source": [
        "print(w1_new)\n",
        "print(w2_new)"
      ],
      "execution_count": 0,
      "outputs": [
        {
          "output_type": "stream",
          "text": [
            "tensor([[ 3.2000,  1.0000, -1.4000],\n",
            "        [ 3.4000, -2.0000, -2.8000]], grad_fn=<SubBackward0>)\n",
            "tensor([[-5.8000],\n",
            "        [ 3.0000],\n",
            "        [-4.0000]], grad_fn=<SubBackward0>)\n"
          ],
          "name": "stdout"
        }
      ]
    },
    {
      "cell_type": "code",
      "metadata": {
        "id": "WnQwn9uFj7Aq",
        "colab_type": "code",
        "outputId": "6b9a3112-1226-432e-bdda-0c2c5caebcd8",
        "colab": {
          "base_uri": "https://localhost:8080/",
          "height": 119
        }
      },
      "source": [
        "print(w1_new[0,0].data)\n",
        "print(w1_new[1,0].data)\n",
        "print(w1_new[0,1].data)\n",
        "print(w1_new[1,1].data)\n",
        "print(w1_new[0,2].data)\n",
        "print(w1_new[1,2].data)"
      ],
      "execution_count": 0,
      "outputs": [
        {
          "output_type": "stream",
          "text": [
            "tensor(3.2000)\n",
            "tensor(3.4000)\n",
            "tensor(1.)\n",
            "tensor(-2.)\n",
            "tensor(-1.4000)\n",
            "tensor(-2.8000)\n"
          ],
          "name": "stdout"
        }
      ]
    },
    {
      "cell_type": "code",
      "metadata": {
        "id": "roTmrPwmj-Vj",
        "colab_type": "code",
        "colab": {}
      },
      "source": [
        ""
      ],
      "execution_count": 0,
      "outputs": []
    }
  ]
}