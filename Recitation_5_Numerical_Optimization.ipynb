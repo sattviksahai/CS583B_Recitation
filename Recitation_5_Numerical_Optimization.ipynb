{
  "nbformat": 4,
  "nbformat_minor": 0,
  "metadata": {
    "colab": {
      "name": "Recitation_5_Numerical Optimization.ipynb",
      "provenance": [],
      "collapsed_sections": [],
      "toc_visible": true,
      "authorship_tag": "ABX9TyNiuLxr9UY1Q37us5LIGYdE",
      "include_colab_link": true
    },
    "kernelspec": {
      "name": "python3",
      "display_name": "Python 3"
    }
  },
  "cells": [
    {
      "cell_type": "markdown",
      "metadata": {
        "id": "view-in-github",
        "colab_type": "text"
      },
      "source": [
        "<a href=\"https://colab.research.google.com/github/sattviksahai/CS583B_Recitation/blob/master/Recitation_5_Numerical_Optimization.ipynb\" target=\"_parent\"><img src=\"https://colab.research.google.com/assets/colab-badge.svg\" alt=\"Open In Colab\"/></a>"
      ]
    },
    {
      "cell_type": "code",
      "metadata": {
        "id": "7RPFi8q1MquL",
        "outputId": "17923fbc-8677-4626-c2ab-2188ff863406",
        "colab": {
          "base_uri": "https://localhost:8080/",
          "height": 34
        }
      },
      "source": [
        "from google.colab import drive\n",
        "drive.mount('/content/drive')"
      ],
      "execution_count": 1,
      "outputs": [
        {
          "output_type": "stream",
          "text": [
            "Mounted at /content/drive\n"
          ],
          "name": "stdout"
        }
      ]
    },
    {
      "cell_type": "markdown",
      "metadata": {
        "id": "FELtoEfWN4yA"
      },
      "source": [
        "### Copy data from drive ###"
      ]
    },
    {
      "cell_type": "code",
      "metadata": {
        "id": "OsNcV4uzmE6G"
      },
      "source": [
        "!cp drive/My\\ Drive/data/diabetes_dataset.txt ./diabetes_dataset.txt"
      ],
      "execution_count": 5,
      "outputs": []
    },
    {
      "cell_type": "markdown",
      "metadata": {
        "id": "tn8oDK18OTIq"
      },
      "source": [
        "## Data Loading and Processing ##"
      ]
    },
    {
      "cell_type": "code",
      "metadata": {
        "id": "JSkGaw3Lmvtz",
        "outputId": "632c785d-f0cc-4142-a4a0-ef7ff5a3cf9a",
        "colab": {
          "base_uri": "https://localhost:8080/",
          "height": 51
        }
      },
      "source": [
        "from sklearn import datasets\n",
        "import numpy as np\n",
        "\n",
        "x_sparse, y = datasets.load_svmlight_file('diabetes_dataset.txt')\n",
        "x = x_sparse.todense()\n",
        "\n",
        "print('shape of x {}'.format(x.shape))\n",
        "print('shape of y {}'.format(y.shape))"
      ],
      "execution_count": 10,
      "outputs": [
        {
          "output_type": "stream",
          "text": [
            "shape of x (768, 8)\n",
            "shape of y (768,)\n"
          ],
          "name": "stdout"
        }
      ]
    },
    {
      "cell_type": "markdown",
      "metadata": {
        "id": "BfioHnsTO3_w"
      },
      "source": [
        "## Display a few examples from the dataset ##"
      ]
    },
    {
      "cell_type": "code",
      "metadata": {
        "id": "d7rPos_Eo2Ue",
        "outputId": "be159ff9-b7cb-4d40-dce0-73caa485e41b",
        "colab": {
          "base_uri": "https://localhost:8080/",
          "height": 289
        }
      },
      "source": [
        "import random\n",
        "\n",
        "for i in range(10):\n",
        "  index = random.randint(0,x.shape[0])\n",
        "  print(\"feature {}, label {}\".format(x[index,:], y[index]))"
      ],
      "execution_count": 12,
      "outputs": [
        {
          "output_type": "stream",
          "text": [
            "feature [[0.00e+00 1.39e+02 6.20e+01 1.70e+01 2.10e+02 2.21e+01 2.07e-01 2.10e+01]], label 1.0\n",
            "feature [[ 13.       126.        90.         0.         0.        43.400002\n",
            "    0.583     42.      ]], label -1.0\n",
            "feature [[ 17.       163.        72.        41.       114.        40.900002\n",
            "    0.817     47.      ]], label -1.0\n",
            "feature [[  1.       116.        78.        29.       180.        36.099998\n",
            "    0.496     25.      ]], label 1.0\n",
            "feature [[ 6.       85.       78.        0.        0.       31.200001  0.382\n",
            "  42.      ]], label 1.0\n",
            "feature [[ 4.       92.       80.        0.        0.       42.200001  0.237\n",
            "  29.      ]], label 1.0\n",
            "feature [[  4.    114.     65.      0.      0.     21.9     0.432  37.   ]], label 1.0\n",
            "feature [[  2.    144.     58.     33.    135.     31.6     0.422  25.   ]], label -1.0\n",
            "feature [[  4.    145.     82.     18.      0.     32.5     0.235  70.   ]], label -1.0\n",
            "feature [[3.0000000e+00 1.7300000e+02 8.4000000e+01 3.3000000e+01 4.7400000e+02\n",
            "  3.5700001e+01 2.5800000e-01 2.2000000e+01]], label -1.0\n"
          ],
          "name": "stdout"
        }
      ]
    },
    {
      "cell_type": "markdown",
      "metadata": {
        "id": "YSQRnRS4QCat"
      },
      "source": [
        "## Partition Dataset to training and testing ##"
      ]
    },
    {
      "cell_type": "code",
      "metadata": {
        "id": "uH3Dc3QSpk3L",
        "outputId": "497fab41-60ac-4088-b300-1002b31542fd",
        "colab": {
          "base_uri": "https://localhost:8080/",
          "height": 85
        }
      },
      "source": [
        "n = x.shape[0]\n",
        "n_train = 640\n",
        "n_test = n-n_train\n",
        "\n",
        "rand_indices = np.random.permutation(n)\n",
        "train_indices = rand_indices[:n_train]\n",
        "test_indices = rand_indices[n_train:]\n",
        "\n",
        "x_train = x[train_indices, :]\n",
        "x_test = x[test_indices, :]\n",
        "\n",
        "y_train = y[train_indices].reshape(n_train, 1)\n",
        "y_test = y[test_indices].reshape(n_test, 1)\n",
        "\n",
        "print(\"Shape of x_train {}\".format(x_train.shape))\n",
        "print(\"Shape of x_test {}\".format(x_test.shape))\n",
        "print(\"Shape of y_train {}\".format(y_train.shape))\n",
        "print(\"Shape of y_test {}\".format(y_test.shape))"
      ],
      "execution_count": 17,
      "outputs": [
        {
          "output_type": "stream",
          "text": [
            "Shape of x_train (640, 8)\n",
            "Shape of x_test (128, 8)\n",
            "Shape of y_train (640, 1)\n",
            "Shape of y_test (128, 1)\n"
          ],
          "name": "stdout"
        }
      ]
    },
    {
      "cell_type": "markdown",
      "metadata": {
        "id": "u-ml7uDmQrqh"
      },
      "source": [
        "## Feature Scaling ##"
      ]
    },
    {
      "cell_type": "code",
      "metadata": {
        "id": "kZpjPGMGrcol",
        "outputId": "c2c4de2e-ae75-4067-c699-d7c658dcb223",
        "colab": {
          "base_uri": "https://localhost:8080/",
          "height": 85
        }
      },
      "source": [
        "import numpy as np\n",
        "\n",
        "d = x_train.shape[1]\n",
        "\n",
        "mu = np.mean(x_train, axis=0).reshape(1, d)\n",
        "sigma = np.std(x_train, axis=0).reshape(1, d)\n",
        "\n",
        "# transform training data\n",
        "x_train = (x_train - mu)/(sigma + 1E-6)\n",
        "\n",
        "# transform test data\n",
        "x_test = (x_test - mu)/(sigma + 1E-6)\n",
        "\n",
        "print(np.mean(x_test, axis=0))\n",
        "print(np.std(x_test, axis=0))"
      ],
      "execution_count": 19,
      "outputs": [
        {
          "output_type": "stream",
          "text": [
            "[[ 0.04615855 -0.14770997 -0.09198002 -0.10344382 -0.19383759 -0.08987246\n",
            "  -0.01814557 -0.10059873]]\n",
            "[[0.90481825 1.11845233 1.0053347  0.96916155 0.75254191 1.02680981\n",
            "  0.97833158 0.86064507]]\n"
          ],
          "name": "stdout"
        }
      ]
    },
    {
      "cell_type": "markdown",
      "metadata": {
        "id": "2-uoIru0Ryuh"
      },
      "source": [
        "## Add a dimension of all ones (bias) ##"
      ]
    },
    {
      "cell_type": "code",
      "metadata": {
        "id": "ZFRVV6zdssMM",
        "outputId": "c4ace2c2-9b4c-4988-cb6d-aea487b36d84",
        "colab": {
          "base_uri": "https://localhost:8080/",
          "height": 51
        }
      },
      "source": [
        "n_train, d = x_train.shape\n",
        "x_train = np.concatenate((x_train, np.ones((n_train, 1))), axis=1)\n",
        "\n",
        "n_test, d = x_test.shape\n",
        "x_test = np.concatenate((x_test, np.ones((n_test, 1))), axis=1)\n",
        "\n",
        "print('shape of x_train {}'.format(x_train.shape))\n",
        "print('shape of x_test {}'.format(x_test.shape))"
      ],
      "execution_count": 20,
      "outputs": [
        {
          "output_type": "stream",
          "text": [
            "shape of x_train (640, 9)\n",
            "shape of x_test (128, 9)\n"
          ],
          "name": "stdout"
        }
      ]
    },
    {
      "cell_type": "markdown",
      "metadata": {
        "id": "kMWXmVAfSZoy"
      },
      "source": [
        "# Logistic regression model #\n",
        "The objective function is $Q (w; X, y) = \\frac{1}{n} \\sum_{i=1}^n \\log \\Big( 1 + \\exp \\big( - y_i x_i^T w \\big) \\Big) + \\frac{\\lambda}{2} \\| w \\|_2^2 $."
      ]
    },
    {
      "cell_type": "code",
      "metadata": {
        "id": "lL-t7xJbtsro",
        "outputId": "7fc55b81-68c1-463d-b1d0-8ea056831a05",
        "colab": {
          "base_uri": "https://localhost:8080/",
          "height": 34
        }
      },
      "source": [
        "# w - d x 1\n",
        "# x - n x d\n",
        "# y - n x 1\n",
        "# lam - scalar\n",
        "def objective(w, x, y, lam):\n",
        "  n, d = x.shape\n",
        "  yx = np.multiply(y, x)\n",
        "  yxw = np.dot(yx, w)\n",
        "  vec1 = np.exp(-yxw)\n",
        "  vec2 = np.log(1+vec1)\n",
        "  loss = np.mean(vec2)\n",
        "\n",
        "  reg = (lam/2) * np.sum(w*w)\n",
        "  return loss+reg\n",
        "objective(np.random.randn(9,1), np.random.randn(3,9), np.random.randn(3,1), 2)"
      ],
      "execution_count": 29,
      "outputs": [
        {
          "output_type": "execute_result",
          "data": {
            "text/plain": [
              "8.094416519398766"
            ]
          },
          "metadata": {
            "tags": []
          },
          "execution_count": 29
        }
      ]
    },
    {
      "cell_type": "markdown",
      "metadata": {
        "id": "6RBxWYIUXKO5"
      },
      "source": [
        "## Optimization ##"
      ]
    },
    {
      "cell_type": "code",
      "metadata": {
        "id": "_jYVJxGuyAsq"
      },
      "source": [
        "def optim(x, y, lam, max_iter, w=None):\n",
        "  n, d = x.shape\n",
        "\n",
        "  # store obj values\n",
        "  objvals = np.zeros(max_iter)\n",
        "\n",
        "  # init x\n",
        "  if w is None:\n",
        "    w = np.zeros((d,1))\n",
        "  \n",
        "  for t in range(max_iter):\n",
        "    obj_val = objective(w,x,y, lam)\n",
        "    objvals[t] = obj_val\n",
        "    print(\"Iteration {}, obj value {}\".format(t, obj_val))\n",
        "\n",
        "    # random opt\n",
        "    w = np.random.randn(d,1)\n",
        "  return w, objvals\n"
      ],
      "execution_count": 30,
      "outputs": []
    },
    {
      "cell_type": "markdown",
      "metadata": {
        "id": "42kfTCx-YFYZ"
      },
      "source": [
        "### Run random optimization ###"
      ]
    },
    {
      "cell_type": "code",
      "metadata": {
        "id": "exMuIv5RfONS",
        "outputId": "fae2b8eb-f909-4583-cad6-0f15f7c41f27",
        "colab": {
          "base_uri": "https://localhost:8080/",
          "height": 867
        }
      },
      "source": [
        "lam = 1E-6\n",
        "w, obj_vals = optim(x_train, y_train, lam, 50)"
      ],
      "execution_count": 31,
      "outputs": [
        {
          "output_type": "stream",
          "text": [
            "Iteration 0, obj value 0.6931471805599453\n",
            "Iteration 1, obj value 0.9047248902288059\n",
            "Iteration 2, obj value 0.789157266177219\n",
            "Iteration 3, obj value 1.0509489549850601\n",
            "Iteration 4, obj value 0.9391845094674156\n",
            "Iteration 5, obj value 0.8701097228055873\n",
            "Iteration 6, obj value 1.3480710599051162\n",
            "Iteration 7, obj value 1.8743513886612988\n",
            "Iteration 8, obj value 1.1897538998034902\n",
            "Iteration 9, obj value 2.448717830608694\n",
            "Iteration 10, obj value 1.4193324065371915\n",
            "Iteration 11, obj value 0.9053780225651208\n",
            "Iteration 12, obj value 0.9613235054619311\n",
            "Iteration 13, obj value 1.3141987724314486\n",
            "Iteration 14, obj value 1.8739747721642772\n",
            "Iteration 15, obj value 1.861902896282834\n",
            "Iteration 16, obj value 1.5702027630941697\n",
            "Iteration 17, obj value 1.5779599526963632\n",
            "Iteration 18, obj value 1.7084906122524797\n",
            "Iteration 19, obj value 1.5206821413959533\n",
            "Iteration 20, obj value 2.015769553955313\n",
            "Iteration 21, obj value 1.375573995664362\n",
            "Iteration 22, obj value 2.2757077931091567\n",
            "Iteration 23, obj value 1.2928060058777835\n",
            "Iteration 24, obj value 1.2237868393233355\n",
            "Iteration 25, obj value 1.680844079586511\n",
            "Iteration 26, obj value 0.9944368860367683\n",
            "Iteration 27, obj value 1.2213138075108685\n",
            "Iteration 28, obj value 1.1945725677450785\n",
            "Iteration 29, obj value 1.115514940020359\n",
            "Iteration 30, obj value 0.8127866958226309\n",
            "Iteration 31, obj value 2.0535061008170366\n",
            "Iteration 32, obj value 0.6987758944178457\n",
            "Iteration 33, obj value 1.1731851763165768\n",
            "Iteration 34, obj value 1.1988250395146482\n",
            "Iteration 35, obj value 1.3744509124256754\n",
            "Iteration 36, obj value 1.4120847239521175\n",
            "Iteration 37, obj value 1.409441948972164\n",
            "Iteration 38, obj value 0.8731939614148347\n",
            "Iteration 39, obj value 1.752699603196835\n",
            "Iteration 40, obj value 0.8012541261020639\n",
            "Iteration 41, obj value 0.9116326119150598\n",
            "Iteration 42, obj value 1.57518833366778\n",
            "Iteration 43, obj value 1.137658421360643\n",
            "Iteration 44, obj value 1.541625398117689\n",
            "Iteration 45, obj value 1.3241814377822014\n",
            "Iteration 46, obj value 0.9056502744881703\n",
            "Iteration 47, obj value 1.106873490210801\n",
            "Iteration 48, obj value 1.1450458561780525\n",
            "Iteration 49, obj value 1.739766503645107\n"
          ],
          "name": "stdout"
        }
      ]
    },
    {
      "cell_type": "code",
      "metadata": {
        "id": "aS8dFDMWzNTs",
        "outputId": "f84a835f-ad63-4d44-ec3d-ff64c8d4467b",
        "colab": {
          "base_uri": "https://localhost:8080/",
          "height": 265
        }
      },
      "source": [
        "import matplotlib.pyplot as plt\n",
        "\n",
        "epochs = range(len(obj_vals))\n",
        "\n",
        "plt.plot(epochs, obj_vals)\n",
        "plt.show()"
      ],
      "execution_count": 32,
      "outputs": [
        {
          "output_type": "display_data",
          "data": {
            "image/png": "[encoded data removed]",
            "text/plain": [
              "<Figure size 432x288 with 1 Axes>"
            ]
          },
          "metadata": {
            "tags": [],
            "needs_background": "light"
          }
        }
      ]
    },
    {
      "cell_type": "code",
      "metadata": {
        "id": "LhszVJe_zaet"
      },
      "source": [
        ""
      ],
      "execution_count": null,
      "outputs": []
    }
  ]
}